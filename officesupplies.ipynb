{
  "nbformat": 4,
  "nbformat_minor": 0,
  "metadata": {
    "colab": {
      "name": "officesupplies.ipynb",
      "provenance": [],
      "mount_file_id": "1xzh2WLr-PKR3Fcymv7yhPOw6LWh1vfTI",
      "authorship_tag": "ABX9TyPd7O4m7WtcPF4I1QFLV31u",
      "include_colab_link": true
    },
    "kernelspec": {
      "name": "python3",
      "display_name": "Python 3"
    }
  },
  "cells": [
    {
      "cell_type": "markdown",
      "metadata": {
        "id": "view-in-github",
        "colab_type": "text"
      },
      "source": [
        "<a href=\"https://colab.research.google.com/github/QiyuLiu21/L04/blob/master/officesupplies.ipynb\" target=\"_parent\"><img src=\"https://colab.research.google.com/assets/colab-badge.svg\" alt=\"Open In Colab\"/></a>"
      ]
    },
    {
      "cell_type": "code",
      "metadata": {
        "id": "a6uBIycmEa6K"
      },
      "source": [
        "import numpy as np\n",
        "import pandas as pd\n",
        "import seaborn as sns\n",
        "import matplotlib.pyplot as plt\n",
        "sns.set()\n",
        "%matplotlib inline"
      ],
      "execution_count": 13,
      "outputs": []
    },
    {
      "cell_type": "code",
      "metadata": {
        "id": "-KhTIy1IKfMA"
      },
      "source": [
        "df = pd.read_csv('/content/drive/MyDrive/Colab Notebooks/Database/OfficeSupplies.csv')"
      ],
      "execution_count": 14,
      "outputs": []
    },
    {
      "cell_type": "code",
      "metadata": {
        "colab": {
          "base_uri": "https://localhost:8080/"
        },
        "id": "WkO9R_v6L-tU",
        "outputId": "8393b09e-0cf0-4e51-e9f1-655e64a78d50"
      },
      "source": [
        "df.info()"
      ],
      "execution_count": 15,
      "outputs": [
        {
          "output_type": "stream",
          "text": [
            "<class 'pandas.core.frame.DataFrame'>\n",
            "RangeIndex: 43 entries, 0 to 42\n",
            "Data columns (total 6 columns):\n",
            " #   Column      Non-Null Count  Dtype  \n",
            "---  ------      --------------  -----  \n",
            " 0   OrderDate   43 non-null     object \n",
            " 1   Region      43 non-null     object \n",
            " 2   Rep         43 non-null     object \n",
            " 3   Item        43 non-null     object \n",
            " 4   Units       43 non-null     int64  \n",
            " 5   Unit Price  43 non-null     float64\n",
            "dtypes: float64(1), int64(1), object(4)\n",
            "memory usage: 2.1+ KB\n"
          ],
          "name": "stdout"
        }
      ]
    },
    {
      "cell_type": "code",
      "metadata": {
        "colab": {
          "base_uri": "https://localhost:8080/",
          "height": 204
        },
        "id": "bKgt79XkMDap",
        "outputId": "075c1d91-5c82-470b-9abf-6cb22c45af7e"
      },
      "source": [
        "df.head()"
      ],
      "execution_count": 16,
      "outputs": [
        {
          "output_type": "execute_result",
          "data": {
            "text/html": [
              "<div>\n",
              "<style scoped>\n",
              "    .dataframe tbody tr th:only-of-type {\n",
              "        vertical-align: middle;\n",
              "    }\n",
              "\n",
              "    .dataframe tbody tr th {\n",
              "        vertical-align: top;\n",
              "    }\n",
              "\n",
              "    .dataframe thead th {\n",
              "        text-align: right;\n",
              "    }\n",
              "</style>\n",
              "<table border=\"1\" class=\"dataframe\">\n",
              "  <thead>\n",
              "    <tr style=\"text-align: right;\">\n",
              "      <th></th>\n",
              "      <th>OrderDate</th>\n",
              "      <th>Region</th>\n",
              "      <th>Rep</th>\n",
              "      <th>Item</th>\n",
              "      <th>Units</th>\n",
              "      <th>Unit Price</th>\n",
              "    </tr>\n",
              "  </thead>\n",
              "  <tbody>\n",
              "    <tr>\n",
              "      <th>0</th>\n",
              "      <td>4-Jul-2014</td>\n",
              "      <td>East</td>\n",
              "      <td>Richard</td>\n",
              "      <td>Pen Set</td>\n",
              "      <td>62</td>\n",
              "      <td>4.99</td>\n",
              "    </tr>\n",
              "    <tr>\n",
              "      <th>1</th>\n",
              "      <td>12-Jul-2014</td>\n",
              "      <td>East</td>\n",
              "      <td>Nick</td>\n",
              "      <td>Binder</td>\n",
              "      <td>29</td>\n",
              "      <td>1.99</td>\n",
              "    </tr>\n",
              "    <tr>\n",
              "      <th>2</th>\n",
              "      <td>21-Jul-2014</td>\n",
              "      <td>Central</td>\n",
              "      <td>Morgan</td>\n",
              "      <td>Pen Set</td>\n",
              "      <td>55</td>\n",
              "      <td>12.49</td>\n",
              "    </tr>\n",
              "    <tr>\n",
              "      <th>3</th>\n",
              "      <td>29-Jul-2014</td>\n",
              "      <td>East</td>\n",
              "      <td>Susan</td>\n",
              "      <td>Binder</td>\n",
              "      <td>81</td>\n",
              "      <td>19.99</td>\n",
              "    </tr>\n",
              "    <tr>\n",
              "      <th>4</th>\n",
              "      <td>7-Aug-2014</td>\n",
              "      <td>Central</td>\n",
              "      <td>Matthew</td>\n",
              "      <td>Pen Set</td>\n",
              "      <td>42</td>\n",
              "      <td>23.95</td>\n",
              "    </tr>\n",
              "  </tbody>\n",
              "</table>\n",
              "</div>"
            ],
            "text/plain": [
              "     OrderDate   Region      Rep     Item  Units  Unit Price\n",
              "0   4-Jul-2014     East  Richard  Pen Set     62        4.99\n",
              "1  12-Jul-2014     East     Nick   Binder     29        1.99\n",
              "2  21-Jul-2014  Central   Morgan  Pen Set     55       12.49\n",
              "3  29-Jul-2014     East    Susan   Binder     81       19.99\n",
              "4   7-Aug-2014  Central  Matthew  Pen Set     42       23.95"
            ]
          },
          "metadata": {
            "tags": []
          },
          "execution_count": 16
        }
      ]
    },
    {
      "cell_type": "markdown",
      "metadata": {
        "id": "2XD4t3e9Nw5o"
      },
      "source": [
        "# What is the distribution of the units order?"
      ]
    },
    {
      "cell_type": "code",
      "metadata": {
        "colab": {
          "base_uri": "https://localhost:8080/",
          "height": 356
        },
        "id": "OS-J4CRzMFez",
        "outputId": "0530002d-c51d-471d-e2d8-d9b92d4db81c"
      },
      "source": [
        "sns.distplot(df['Units'])"
      ],
      "execution_count": 17,
      "outputs": [
        {
          "output_type": "stream",
          "text": [
            "/usr/local/lib/python3.6/dist-packages/seaborn/distributions.py:2557: FutureWarning: `distplot` is a deprecated function and will be removed in a future version. Please adapt your code to use either `displot` (a figure-level function with similar flexibility) or `histplot` (an axes-level function for histograms).\n",
            "  warnings.warn(msg, FutureWarning)\n"
          ],
          "name": "stderr"
        },
        {
          "output_type": "execute_result",
          "data": {
            "text/plain": [
              "<matplotlib.axes._subplots.AxesSubplot at 0x7f9f9b683a58>"
            ]
          },
          "metadata": {
            "tags": []
          },
          "execution_count": 17
        },
        {
          "output_type": "display_data",
          "data": {
            "image/png": "[encoded data removed]",
            "text/plain": [
              "<Figure size 432x288 with 1 Axes>"
            ]
          },
          "metadata": {
            "tags": [],
            "needs_background": "light"
          }
        }
      ]
    },
    {
      "cell_type": "markdown",
      "metadata": {
        "id": "9Go55zt3Mvd3"
      },
      "source": [
        "# Which item is the most popular?\n"
      ]
    },
    {
      "cell_type": "code",
      "metadata": {
        "colab": {
          "base_uri": "https://localhost:8080/",
          "height": 302
        },
        "id": "G93eSk98MTOp",
        "outputId": "156adeb5-22f8-4a3a-e458-cf41c179d914"
      },
      "source": [
        "sns.histplot(df['Item'],color = 'purple')"
      ],
      "execution_count": 18,
      "outputs": [
        {
          "output_type": "execute_result",
          "data": {
            "text/plain": [
              "<matplotlib.axes._subplots.AxesSubplot at 0x7f9f9b6052b0>"
            ]
          },
          "metadata": {
            "tags": []
          },
          "execution_count": 18
        },
        {
          "output_type": "display_data",
          "data": {
            "image/png": "[encoded data removed]",
            "text/plain": [
              "<Figure size 432x288 with 1 Axes>"
            ]
          },
          "metadata": {
            "tags": [],
            "needs_background": "light"
          }
        }
      ]
    },
    {
      "cell_type": "markdown",
      "metadata": {
        "id": "lnR_aARkPcXn"
      },
      "source": [
        "# What is the average,min and max units order of every representative?"
      ]
    },
    {
      "cell_type": "code",
      "metadata": {
        "colab": {
          "base_uri": "https://localhost:8080/",
          "height": 506
        },
        "id": "j7UdvLnnMmE_",
        "outputId": "ef635524-2507-4f5f-e476-641525c6661d"
      },
      "source": [
        "var = 'Rep'\n",
        "data = pd.concat([df['Units'], df[var]], axis=1)\n",
        "f, ax = plt.subplots(figsize=(14, 8))\n",
        "fig = sns.boxplot(x=var, y=\"Units\", data=data)\n",
        "fig.axis(ymin=0, ymax=200);"
      ],
      "execution_count": 19,
      "outputs": [
        {
          "output_type": "display_data",
          "data": {
            "image/png": "[encoded data removed]",
            "text/plain": [
              "<Figure size 1008x576 with 1 Axes>"
            ]
          },
          "metadata": {
            "tags": [],
            "needs_background": "light"
          }
        }
      ]
    },
    {
      "cell_type": "code",
      "metadata": {
        "id": "F3pEM-zaQ9ly"
      },
      "source": [
        ""
      ],
      "execution_count": null,
      "outputs": []
    }
  ]
}