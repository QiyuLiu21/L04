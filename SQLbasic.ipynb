{
  "nbformat": 4,
  "nbformat_minor": 0,
  "metadata": {
    "colab": {
      "name": "SQLbasic.ipynb",
      "provenance": [],
      "mount_file_id": "1woBYm5LUlbPEOhJPQWU6YBaTyT0rXDLA",
      "authorship_tag": "ABX9TyMzgRQ6WuKDl+at21Tfg1d1",
      "include_colab_link": true
    },
    "kernelspec": {
      "name": "python3",
      "display_name": "Python 3"
    }
  },
  "cells": [
    {
      "cell_type": "markdown",
      "metadata": {
        "id": "view-in-github",
        "colab_type": "text"
      },
      "source": [
        "<a href=\"https://colab.research.google.com/github/QiyuLiu21/L04/blob/master/SQLbasic.ipynb\" target=\"_parent\"><img src=\"https://colab.research.google.com/assets/colab-badge.svg\" alt=\"Open In Colab\"/></a>"
      ]
    },
    {
      "cell_type": "code",
      "metadata": {
        "id": "GK-yPTsp9r1W"
      },
      "source": [
        "import sqlite3"
      ],
      "execution_count": 2,
      "outputs": []
    },
    {
      "cell_type": "code",
      "metadata": {
        "colab": {
          "base_uri": "https://localhost:8080/"
        },
        "id": "8kMo8N2n_3l8",
        "outputId": "0a93281d-bebd-4067-e28e-8cd3b4609913"
      },
      "source": [
        "try:\n",
        "  conn = sqlite3.connect('/content/drive/MyDrive/Colab Notebooks/Database/database.db')\n",
        "  cursor = conn.cursor()\n",
        "  print(\"Database Connection and creation is successfully created\")\n",
        "  cursor.close()\n",
        "\n",
        "except sqlite3.Error as error:\n",
        "  print(\"Error in creating Database\")\n",
        "finally:\n",
        "  if(conn):\n",
        "    conn.close()\n",
        "    print(\"Sqlite connection is closed\")"
      ],
      "execution_count": 3,
      "outputs": [
        {
          "output_type": "stream",
          "text": [
            "Database Connection and creation is successfully created\n",
            "Sqlite connection is closed\n"
          ],
          "name": "stdout"
        }
      ]
    },
    {
      "cell_type": "code",
      "metadata": {
        "id": "PynF9OKkCKfg"
      },
      "source": [
        ""
      ],
      "execution_count": null,
      "outputs": []
    }
  ]
}