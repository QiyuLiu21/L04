{
  "nbformat": 4,
  "nbformat_minor": 0,
  "metadata": {
    "colab": {
      "name": "calculator.ipynb",
      "provenance": [],
      "authorship_tag": "ABX9TyNp8L9kSBLXUA7kvM0jfoQs",
      "include_colab_link": true
    },
    "kernelspec": {
      "name": "python3",
      "display_name": "Python 3"
    }
  },
  "cells": [
    {
      "cell_type": "markdown",
      "metadata": {
        "id": "view-in-github",
        "colab_type": "text"
      },
      "source": [
        "<a href=\"https://colab.research.google.com/github/QiyuLiu21/L04/blob/master/calculator.ipynb\" target=\"_parent\"><img src=\"https://colab.research.google.com/assets/colab-badge.svg\" alt=\"Open In Colab\"/></a>"
      ]
    },
    {
      "cell_type": "code",
      "metadata": {
        "colab": {
          "base_uri": "https://localhost:8080/"
        },
        "id": "HpGweb9uaSub",
        "outputId": "d214ef39-2cea-454c-cdd9-ee70eba76e69"
      },
      "source": [
        "def calc():\n",
        "  # This function is a simple calculator\n",
        "  num1 = int(input(\"Enter a number: \"))\n",
        "  num2 = int(input(\"Enter another number: \"))\n",
        "  operator = input(\"Add, substract, multiply, or divide: \")\n",
        "  if operator == \"add\":\n",
        "    return num1 + num2\n",
        "  elif operator == \"substract\":\n",
        "    return num1 - num2\n",
        "  elif operator == \"multiply\":\n",
        "    return num1 * num2\n",
        "  elif operator == \"divide\":\n",
        "    return num1 / num2\n",
        "calc()"
      ],
      "execution_count": 1,
      "outputs": [
        {
          "output_type": "stream",
          "text": [
            "Enter a number: 2\n",
            "Enter another number: 3\n",
            "Add, substract, multiply, or divide: multiply\n"
          ],
          "name": "stdout"
        },
        {
          "output_type": "execute_result",
          "data": {
            "text/plain": [
              "6"
            ]
          },
          "metadata": {
            "tags": []
          },
          "execution_count": 1
        }
      ]
    },
    {
      "cell_type": "code",
      "metadata": {
        "id": "QHtxxXRBaV3v"
      },
      "source": [
        ""
      ],
      "execution_count": null,
      "outputs": []
    }
  ]
}