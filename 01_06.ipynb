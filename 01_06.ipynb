{
  "nbformat": 4,
  "nbformat_minor": 0,
  "metadata": {
    "colab": {
      "name": "01/06.ipynb",
      "provenance": [],
      "authorship_tag": "ABX9TyO/BilD0Po9b/fbpxb6vJpZ",
      "include_colab_link": true
    },
    "kernelspec": {
      "name": "python3",
      "display_name": "Python 3"
    }
  },
  "cells": [
    {
      "cell_type": "markdown",
      "metadata": {
        "id": "view-in-github",
        "colab_type": "text"
      },
      "source": [
        "<a href=\"https://colab.research.google.com/github/QiyuLiu21/L04/blob/master/01_06.ipynb\" target=\"_parent\"><img src=\"https://colab.research.google.com/assets/colab-badge.svg\" alt=\"Open In Colab\"/></a>"
      ]
    },
    {
      "cell_type": "markdown",
      "metadata": {
        "id": "g_Y8KSrWMNgS"
      },
      "source": [
        "Creat five variable"
      ]
    },
    {
      "cell_type": "code",
      "metadata": {
        "id": "PHVcDHLzL_Lv"
      },
      "source": [
        "first_name = 'Qiyu'\n",
        "firstName = 'Qiy'"
      ],
      "execution_count": 7,
      "outputs": []
    },
    {
      "cell_type": "code",
      "metadata": {
        "colab": {
          "base_uri": "https://localhost:8080/"
        },
        "id": "ibhX7GxvOuwj",
        "outputId": "d0957669-a2f9-41ff-b784-6ec3acbcb957"
      },
      "source": [
        "print(first_name)"
      ],
      "execution_count": 8,
      "outputs": [
        {
          "output_type": "stream",
          "text": [
            "Qiyu\n"
          ],
          "name": "stdout"
        }
      ]
    },
    {
      "cell_type": "markdown",
      "metadata": {
        "id": "kO7_eC4EOfQa"
      },
      "source": [
        "Create 10 last names"
      ]
    },
    {
      "cell_type": "code",
      "metadata": {
        "id": "O25j88LeOe85"
      },
      "source": [
        "last_name = 'A'\n",
        "lastName = 'B'\n",
        "Last_name = 'c'\n",
        "LastName = 'D'\n",
        "LASTname = 'E'"
      ],
      "execution_count": 9,
      "outputs": []
    },
    {
      "cell_type": "code",
      "metadata": {
        "colab": {
          "base_uri": "https://localhost:8080/"
        },
        "id": "CnzTv1vnOKx8",
        "outputId": "297fbbbe-1ab5-4c75-b8b0-b6c99cdcf7ab"
      },
      "source": [
        "print(last_name)\n",
        "print(lastName)"
      ],
      "execution_count": 10,
      "outputs": [
        {
          "output_type": "stream",
          "text": [
            "A\n",
            "B\n"
          ],
          "name": "stdout"
        }
      ]
    },
    {
      "cell_type": "markdown",
      "metadata": {
        "id": "9vrItl9tZoxX"
      },
      "source": [
        "Creat 10 list, 10 bools and 10 floats"
      ]
    },
    {
      "cell_type": "code",
      "metadata": {
        "id": "DrxDRQ6PP1fm"
      },
      "source": [
        "list1 = [1,2,3]\n",
        "list2 = [4,5,6]\n",
        "list3 = [7,8,9]\n",
        "list4 = ['a',1]\n",
        "list5 = ['b',2]\n",
        "list6 = ['c','A']\n",
        "list7 = ['d','B']\n",
        "list8 = ['e', 'C']\n",
        "list9 = ['f','Good']\n",
        "list10 = ['g','Bad']"
      ],
      "execution_count": 11,
      "outputs": []
    },
    {
      "cell_type": "code",
      "metadata": {
        "colab": {
          "base_uri": "https://localhost:8080/"
        },
        "id": "C9IOahEnasmc",
        "outputId": "a4c30bc6-de41-41f6-96c6-e937f7412f32"
      },
      "source": [
        "print(list1)\n",
        "print(list2)\n",
        "print(list3)\n",
        "print(list4)\n",
        "print(list5)\n",
        "print(list6)\n",
        "print(list7)\n",
        "print(list8)\n",
        "print(list9)\n",
        "print(list10)"
      ],
      "execution_count": 12,
      "outputs": [
        {
          "output_type": "stream",
          "text": [
            "[1, 2, 3]\n",
            "[4, 5, 6]\n",
            "[7, 8, 9]\n",
            "['a', 1]\n",
            "['b', 2]\n",
            "['c', 'A']\n",
            "['d', 'B']\n",
            "['e', 'C']\n",
            "['f', 'Good']\n",
            "['g', 'Bad']\n"
          ],
          "name": "stdout"
        }
      ]
    },
    {
      "cell_type": "code",
      "metadata": {
        "id": "xReBIWUpa-q4"
      },
      "source": [
        "good = True\n",
        "bad = False\n",
        "goodWeather = True\n",
        "badWeather = False\n",
        "today = True\n",
        "yesterday = False\n",
        "cup = True\n",
        "cup1 = False\n",
        "cup3 = True\n",
        "cup4 = False"
      ],
      "execution_count": 13,
      "outputs": []
    },
    {
      "cell_type": "code",
      "metadata": {
        "colab": {
          "base_uri": "https://localhost:8080/"
        },
        "id": "RHMuJpzybmRn",
        "outputId": "27d7c341-703d-4e1e-c899-492e1c52a2d8"
      },
      "source": [
        "print(good)\n",
        "print(bad)\n",
        "print(goodWeather)\n",
        "print(badWeather)\n",
        "print(today)\n",
        "print(yesterday)"
      ],
      "execution_count": 14,
      "outputs": [
        {
          "output_type": "stream",
          "text": [
            "True\n",
            "False\n",
            "True\n",
            "False\n",
            "True\n",
            "False\n"
          ],
          "name": "stdout"
        }
      ]
    },
    {
      "cell_type": "code",
      "metadata": {
        "id": "kUaUjsiDb9Oj"
      },
      "source": [
        ""
      ],
      "execution_count": null,
      "outputs": []
    }
  ]
}