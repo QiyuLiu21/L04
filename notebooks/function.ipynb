{
  "nbformat": 4,
  "nbformat_minor": 0,
  "metadata": {
    "colab": {
      "name": "function.ipynb",
      "provenance": [],
      "authorship_tag": "ABX9TyODbX9e5BluSC2l2nxeW+kg",
      "include_colab_link": true
    },
    "kernelspec": {
      "name": "python3",
      "display_name": "Python 3"
    }
  },
  "cells": [
    {
      "cell_type": "markdown",
      "metadata": {
        "id": "view-in-github",
        "colab_type": "text"
      },
      "source": [
        "<a href=\"https://colab.research.google.com/github/QiyuLiu21/L04/blob/master/function.ipynb\" target=\"_parent\"><img src=\"https://colab.research.google.com/assets/colab-badge.svg\" alt=\"Open In Colab\"/></a>"
      ]
    },
    {
      "cell_type": "code",
      "metadata": {
        "colab": {
          "base_uri": "https://localhost:8080/"
        },
        "id": "hXQEDNbVNpVh",
        "outputId": "94e7d6f9-3aae-4ce9-c463-309cc675cd4a"
      },
      "source": [
        "def greeting():\n",
        "  \"\"\" This function display a greeting!\"\"\"\n",
        "  print(\"Hello there!\")\n",
        "greeting()"
      ],
      "execution_count": 2,
      "outputs": [
        {
          "output_type": "stream",
          "text": [
            "Hello there!\n"
          ],
          "name": "stdout"
        }
      ]
    },
    {
      "cell_type": "code",
      "metadata": {
        "colab": {
          "base_uri": "https://localhost:8080/"
        },
        "id": "4NyGvTfLN91F",
        "outputId": "f45aa100-dacc-4429-f468-51c52838c55a"
      },
      "source": [
        "def greeting(name):\n",
        "  \"\"\" This function display a greeting!\"\"\"\n",
        "  print(\"Hello there!\" + name)\n",
        "greeting(\"Qiyu\")"
      ],
      "execution_count": 4,
      "outputs": [
        {
          "output_type": "stream",
          "text": [
            "Hello there!Qiyu\n"
          ],
          "name": "stdout"
        }
      ]
    },
    {
      "cell_type": "code",
      "metadata": {
        "colab": {
          "base_uri": "https://localhost:8080/"
        },
        "id": "oPk-xfQaOOJG",
        "outputId": "ccddb448-37cf-42d1-c9f7-79a7cd912611"
      },
      "source": [
        "def greeting2(firstname,lastname,age):\n",
        "  \"\"\" Greets someone by first and last name\"\"\"\n",
        "  print(\"My name is \" + firstname + \" \" + lastname)\n",
        "  print(\"I am \" + str(age) + \" , years old\")\n",
        "greeting2(\"Qiyu\",\"Liu\",2)"
      ],
      "execution_count": 5,
      "outputs": [
        {
          "output_type": "stream",
          "text": [
            "My name is Qiyu Liu\n",
            "I am 2 , years old\n"
          ],
          "name": "stdout"
        }
      ]
    },
    {
      "cell_type": "code",
      "metadata": {
        "colab": {
          "base_uri": "https://localhost:8080/"
        },
        "id": "I1sWS6k4POEG",
        "outputId": "82e778f0-ac08-4108-9c85-c7b972ef55a4"
      },
      "source": [
        "def numbers(num1,num2):\n",
        "  return num1 + num2\n",
        "numbers(3,5)"
      ],
      "execution_count": 6,
      "outputs": [
        {
          "output_type": "execute_result",
          "data": {
            "text/plain": [
              "8"
            ]
          },
          "metadata": {
            "tags": []
          },
          "execution_count": 6
        }
      ]
    },
    {
      "cell_type": "code",
      "metadata": {
        "colab": {
          "base_uri": "https://localhost:8080/"
        },
        "id": "swpIOShbU9j4",
        "outputId": "087ce34d-88c8-4bfe-8a70-971662e1b88a"
      },
      "source": [
        "def numbers2(num1,num2):\n",
        "  return num1 - num2\n",
        "numbers2(10,2)"
      ],
      "execution_count": 7,
      "outputs": [
        {
          "output_type": "execute_result",
          "data": {
            "text/plain": [
              "8"
            ]
          },
          "metadata": {
            "tags": []
          },
          "execution_count": 7
        }
      ]
    },
    {
      "cell_type": "code",
      "metadata": {
        "colab": {
          "base_uri": "https://localhost:8080/"
        },
        "id": "m98p-drnVFIl",
        "outputId": "425669e0-0b29-41fd-f74f-6ad885aa1987"
      },
      "source": [
        "def calc():\n",
        "  # This function is a simple calculator\n",
        "  num1 = int(input(\"Enter a number: \"))\n",
        "  num2 = int(input(\"Enter another number: \"))\n",
        "  operator = input(\"Add, substract, multiply, or divide: \")\n",
        "  if operator == \"add\":\n",
        "    return num1 + num2\n",
        "  elif operator == \"substract\":\n",
        "    return num1 - num2\n",
        "  elif operator == \"multiply\":\n",
        "    return num1 * num2\n",
        "  elif operator == \"divide\":\n",
        "    return num1 / num2\n",
        "calc()"
      ],
      "execution_count": 11,
      "outputs": [
        {
          "output_type": "stream",
          "text": [
            "Enter a number: 2\n",
            "Enter another number: 3\n",
            "Add, substract, multiply, or divide: multiply\n"
          ],
          "name": "stdout"
        },
        {
          "output_type": "execute_result",
          "data": {
            "text/plain": [
              "6"
            ]
          },
          "metadata": {
            "tags": []
          },
          "execution_count": 11
        }
      ]
    },
    {
      "cell_type": "code",
      "metadata": {
        "id": "QoEeroDtZCgX"
      },
      "source": [
        ""
      ],
      "execution_count": null,
      "outputs": []
    }
  ]
}