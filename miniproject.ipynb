{
  "nbformat": 4,
  "nbformat_minor": 0,
  "metadata": {
    "colab": {
      "name": "miniproject.ipynb",
      "provenance": [],
      "authorship_tag": "ABX9TyPZT23C58ulnajJ9mYvYXL9",
      "include_colab_link": true
    },
    "kernelspec": {
      "name": "python3",
      "display_name": "Python 3"
    }
  },
  "cells": [
    {
      "cell_type": "markdown",
      "metadata": {
        "id": "view-in-github",
        "colab_type": "text"
      },
      "source": [
        "<a href=\"https://colab.research.google.com/github/QiyuLiu21/L04/blob/master/miniproject.ipynb\" target=\"_parent\"><img src=\"https://colab.research.google.com/assets/colab-badge.svg\" alt=\"Open In Colab\"/></a>"
      ]
    },
    {
      "cell_type": "code",
      "metadata": {
        "colab": {
          "base_uri": "https://localhost:8080/"
        },
        "id": "4AoXnlUlVdX9",
        "outputId": "1488ba2d-d353-437a-eb39-40bcf7904a67"
      },
      "source": [
        "num1 = int(input(\"Enter a number: \"))\n",
        "if num1%2 ==0:\n",
        "  print(\"The number is even.\")\n",
        "else:\n",
        "  print(\"The number is odd.\")"
      ],
      "execution_count": 9,
      "outputs": [
        {
          "output_type": "stream",
          "text": [
            "Enter a number: 5\n",
            "The number is odd.\n"
          ],
          "name": "stdout"
        }
      ]
    },
    {
      "cell_type": "code",
      "metadata": {
        "colab": {
          "base_uri": "https://localhost:8080/"
        },
        "id": "0rrZZeQeV4QK",
        "outputId": "00ccaff9-06f4-4d31-9f68-a6f7a3270e6d"
      },
      "source": [
        "num2 = int(input(\"Enter a number: \"))\n",
        "if num2%4 ==0:\n",
        "  print(\"The number is a multiple of 4.\")\n",
        "else:\n",
        "  print(\"The number is not a multiple of 4.\")"
      ],
      "execution_count": 10,
      "outputs": [
        {
          "output_type": "stream",
          "text": [
            "Enter a number: 13\n",
            "The number is not a multiple of 4.\n"
          ],
          "name": "stdout"
        }
      ]
    },
    {
      "cell_type": "code",
      "metadata": {
        "colab": {
          "base_uri": "https://localhost:8080/"
        },
        "id": "HJfKnN_nWitm",
        "outputId": "6ddcc6eb-6b87-4372-c34d-1dea32bd6981"
      },
      "source": [
        "num = int(input(\"Put a number to check: \"))\n",
        "check = int(input(\"Put a number to divide: \"))\n",
        "if num%check ==0:\n",
        "  print(\"Check divides evenly into num.\")\n",
        "else:\n",
        "  print(\"Check does not divides evenly into num.\")"
      ],
      "execution_count": 12,
      "outputs": [
        {
          "output_type": "stream",
          "text": [
            "Put a number to check: 25\n",
            "Put a number to divide: 5\n",
            "Check divides evenly into num.\n"
          ],
          "name": "stdout"
        }
      ]
    },
    {
      "cell_type": "code",
      "metadata": {
        "colab": {
          "base_uri": "https://localhost:8080/"
        },
        "id": "T1Gssgs9Z-EK",
        "outputId": "d051c3ef-3582-4222-e256-e8cc7626c7d1"
      },
      "source": [
        "def fun1 (number):\n",
        "  if number%2 == 0:\n",
        "    print(\"The number is even.\")\n",
        "  else:\n",
        "    print(\"The number is odd.\")\n",
        "fun1(5)"
      ],
      "execution_count": 13,
      "outputs": [
        {
          "output_type": "stream",
          "text": [
            "The number is odd.\n"
          ],
          "name": "stdout"
        }
      ]
    },
    {
      "cell_type": "code",
      "metadata": {
        "id": "Q1WW6cPYbMhH"
      },
      "source": [
        ""
      ],
      "execution_count": null,
      "outputs": []
    },
    {
      "cell_type": "code",
      "metadata": {
        "id": "UfIL99uFbTcx"
      },
      "source": [
        ""
      ],
      "execution_count": null,
      "outputs": []
    }
  ]
}