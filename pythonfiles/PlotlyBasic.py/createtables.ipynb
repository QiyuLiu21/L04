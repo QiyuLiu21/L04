***

CREATE TABLE videos (ID serial PRIMARY KEY, title VARCHAR(255) NOT null, length VARCHAR(255) NOT null, URL VARCHAR(255) NOT null);
INSERT INTO videos VALUES(1,'How to Make a Landing Page using HTML, SCSS, and JavaScript','5:05:00','https://www.youtube.com/watch?v=aoQ6S1a32j8&feature=youtu.be'),
(2,'How to Design a Website – A UX Wireframe Tutorial','30:00','https://www.youtube.com/watch?v=pN92rnO_n5U'),(3,'Legend of Atlantis (Full Episode) | Drain the Oceans','47:22','https://www.youtube.com/watch?v=ErPsyBUCijM')
SELECT*FROM videos
CREATE TABLE Reviewers (name VARCHAR(255) PRIMARY KEY, title VARCHAR(255) NOT null, rating integer, text VARCHAR(255) NOT null);
INSERT INTO Reviewers VALUES('John','How to Make a Landing Page using HTML, SCSS, and JavaScript','4','It is useful!'),('Asher','Legend of Atlantis (Full Episode) | Drain the Oceans','5','Love it!'),('Ethan','The Buried Mysteries Of Angkor Wat | The City Of God Kings | Timeline','3','Good!')
SELECT*FROM Reviewers
INSERT INTO Reviewers VALUES('Ethan','The Buried Mysteries Of Angkor Wat | The City Of God Kings | Timeline','3','Good!')
SELECT * FROM videos FULL OUTER JOIN Reviewers ON videos.title=Reviewers.title

***
