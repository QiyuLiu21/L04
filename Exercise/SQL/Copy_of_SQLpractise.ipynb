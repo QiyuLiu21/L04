{
  "nbformat": 4,
  "nbformat_minor": 0,
  "metadata": {
    "colab": {
      "name": "Copy of SQLpractise.ipynb",
      "provenance": [],
      "mount_file_id": "15op6Aw6Oz2ilrttswb4x6IkB9lA92uYo",
      "authorship_tag": "ABX9TyM+dEpEL6E0o79pQ7Ffwsno",
      "include_colab_link": true
    },
    "kernelspec": {
      "name": "python3",
      "display_name": "Python 3"
    }
  },
  "cells": [
    {
      "cell_type": "markdown",
      "metadata": {
        "id": "view-in-github",
        "colab_type": "text"
      },
      "source": [
        "<a href=\"https://colab.research.google.com/github/QiyuLiu21/L04/blob/master/Copy_of_SQLpractise.ipynb\" target=\"_parent\"><img src=\"https://colab.research.google.com/assets/colab-badge.svg\" alt=\"Open In Colab\"/></a>"
      ]
    },
    {
      "cell_type": "code",
      "metadata": {
        "id": "HZGF1GlzLpm_"
      },
      "source": [
        "import sqlite3 "
      ],
      "execution_count": 4,
      "outputs": []
    },
    {
      "cell_type": "code",
      "metadata": {
        "id": "PTlrZlhUNi9e"
      },
      "source": [
        "def sql_connection():\n",
        "  try:\n",
        "    conn = sqlite3.connect('/content/drive/MyDrive/Colab Notebooks/Database/SQLpractice/customers.db')\n",
        "    print(\"Connection done...Database is create\")\n",
        "  except:\n",
        "    print(\"Error in creating Database\")\n",
        "  finally:\n",
        "    if(conn):\n",
        "      conn.close()\n",
        "      print(\"Sqlite connection is closed\")\n",
        "\n",
        "  sql_connection()\n"
      ],
      "execution_count": 5,
      "outputs": []
    },
    {
      "cell_type": "code",
      "metadata": {
        "id": "tVAhyM2WOtVC"
      },
      "source": [
        "def sql_connection():\n",
        "  try:\n",
        "    conn = sqlite3.connect('/content/drive/MyDrive/Colab Notebooks/Database/SQLpractice/customers.dbb')\n",
        "    return conn\n",
        "  except:\n",
        "    print(\"Error connecting to Database\")\n",
        "\n",
        "def sql_table(conn):\n",
        "  cursor_obj = conn.cursor()\n",
        "  cursor_obj.execute(\"CREATE TABLE employees1(id integer PRIMARY KEY, name text, salary real, department text, position text, hireData text)\")\n",
        "  conn.commit()\n",
        "\n",
        "conn = sql_connection()\n",
        "sql_table(conn)"
      ],
      "execution_count": 6,
      "outputs": []
    },
    {
      "cell_type": "code",
      "metadata": {
        "id": "2-kesrSCPTu3"
      },
      "source": [
        ""
      ],
      "execution_count": null,
      "outputs": []
    }
  ]
}