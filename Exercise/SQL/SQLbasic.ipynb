{
  "nbformat": 4,
  "nbformat_minor": 0,
  "metadata": {
    "colab": {
      "name": "SQLbasic.ipynb",
      "provenance": [],
      "mount_file_id": "1woBYm5LUlbPEOhJPQWU6YBaTyT0rXDLA",
      "authorship_tag": "ABX9TyOLZvzARdNrZurrQ6lePG/r",
      "include_colab_link": true
    },
    "kernelspec": {
      "name": "python3",
      "display_name": "Python 3"
    }
  },
  "cells": [
    {
      "cell_type": "markdown",
      "metadata": {
        "id": "view-in-github",
        "colab_type": "text"
      },
      "source": [
        "<a href=\"https://colab.research.google.com/github/QiyuLiu21/L04/blob/master/SQLbasic.ipynb\" target=\"_parent\"><img src=\"https://colab.research.google.com/assets/colab-badge.svg\" alt=\"Open In Colab\"/></a>"
      ]
    },
    {
      "cell_type": "code",
      "metadata": {
        "id": "GK-yPTsp9r1W"
      },
      "source": [
        "import sqlite3"
      ],
      "execution_count": 2,
      "outputs": []
    },
    {
      "cell_type": "code",
      "metadata": {
        "colab": {
          "base_uri": "https://localhost:8080/"
        },
        "id": "8kMo8N2n_3l8",
        "outputId": "f07dbc36-772f-4dd2-9ed3-4a120122fb7e"
      },
      "source": [
        "try:\n",
        "  conn = sqlite3.connect('/content/drive/MyDrive/Colab Notebooks/Database/database.db')\n",
        "  cursor = conn.cursor()\n",
        "  print(\"Database Connection and creation is successfully created\")\n",
        "  cursor.close()\n",
        "\n",
        "except sqlite3.Error as error:\n",
        "  print(\"Error in creating Database\")\n",
        "finally:\n",
        "  if(conn):\n",
        "    conn.close()\n",
        "    print(\"Sqlite connection is closed\")"
      ],
      "execution_count": 4,
      "outputs": [
        {
          "output_type": "stream",
          "text": [
            "Database Connection and creation is successfully created\n",
            "Sqlite connection is closed\n"
          ],
          "name": "stdout"
        }
      ]
    },
    {
      "cell_type": "code",
      "metadata": {
        "id": "PynF9OKkCKfg",
        "colab": {
          "base_uri": "https://localhost:8080/"
        },
        "outputId": "dd1d00ca-ce05-431a-9dd4-4537f11d5c9a"
      },
      "source": [
        "try:\n",
        "  conn = sqlite3.connect('/content/drive/MyDrive/Colab Notebooks/Database/database.db')\n",
        "  createtable = ''' CREATE TABLE Dept(deptid INTEGER PRIMARY KEY AUTOINCREMENT,\n",
        "  deptname TEXT(20) NOT NULL, deptstr INTEGER, Deptprograms TEXT(20));'''\n",
        "  cursor=conn.cursor()\n",
        "  cursor.execute(createtable)\n",
        "  conn.commit()\n",
        "  print(\"Database table are created successfully\")\n",
        "  cursor.close()\n",
        "\n",
        "except sqlite3.Error as error:\n",
        "  print(\"Error in creating Database\",error)\n",
        "finally:\n",
        "  if(conn):\n",
        "    conn.close()\n",
        "    print(\"Sqlite connection is closed\")"
      ],
      "execution_count": 5,
      "outputs": [
        {
          "output_type": "stream",
          "text": [
            "Database table are created successfully\n",
            "Sqlite connection is closed\n"
          ],
          "name": "stdout"
        }
      ]
    },
    {
      "cell_type": "code",
      "metadata": {
        "colab": {
          "base_uri": "https://localhost:8080/"
        },
        "id": "8mc1pzmT2AoV",
        "outputId": "9cf894ee-cb53-42cf-f36f-257aea795015"
      },
      "source": [
        "conn=sqlite3.connect('/content/drive/MyDrive/Colab Notebooks/Database/database.db')\n",
        "query=\"INSERT into STD(name,age,dept)values('bob,20,'CS);\"\n",
        "try:\n",
        "  cursor=conn.cursor()\n",
        "  cursor.execute(query)\n",
        "  conn.commit()\n",
        "  print(\"Our record is inserted into database\")\n",
        "except:\n",
        "  print(\"Error in database insert record\")\n",
        "  conn.rollback()\n",
        "conn.close()"
      ],
      "execution_count": 8,
      "outputs": [
        {
          "output_type": "stream",
          "text": [
            "Error in database insert record\n"
          ],
          "name": "stdout"
        }
      ]
    },
    {
      "cell_type": "code",
      "metadata": {
        "id": "_ux6At1D382b"
      },
      "source": [
        ""
      ],
      "execution_count": null,
      "outputs": []
    }
  ]
}