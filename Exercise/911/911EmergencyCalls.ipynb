{
  "nbformat": 4,
  "nbformat_minor": 0,
  "metadata": {
    "colab": {
      "name": "911EmergencyCalls.ipynb",
      "provenance": [],
      "mount_file_id": "1QhZMvJePM8KEur3Wj-0FEd1D-abjwU3F",
      "authorship_tag": "ABX9TyNblfVMbfXPMhWO3NB5G6Ni",
      "include_colab_link": true
    },
    "kernelspec": {
      "name": "python3",
      "display_name": "Python 3"
    }
  },
  "cells": [
    {
      "cell_type": "markdown",
      "metadata": {
        "id": "view-in-github",
        "colab_type": "text"
      },
      "source": [
        "<a href=\"https://colab.research.google.com/github/QiyuLiu21/L04/blob/master/911EmergencyCalls.ipynb\" target=\"_parent\"><img src=\"https://colab.research.google.com/assets/colab-badge.svg\" alt=\"Open In Colab\"/></a>"
      ]
    },
    {
      "cell_type": "code",
      "metadata": {
        "id": "5filkK3lDtWD"
      },
      "source": [
        "import pandas as pd\n",
        "import numpy as np\n",
        "import seaborn as sns\n",
        "import matplotlib.pyplot as plt\n",
        "sns.set()"
      ],
      "execution_count": 60,
      "outputs": []
    },
    {
      "cell_type": "code",
      "metadata": {
        "id": "Gn6XrBtCEIgE"
      },
      "source": [
        "data = pd.read_csv('/content/drive/MyDrive/911.csv')"
      ],
      "execution_count": 61,
      "outputs": []
    },
    {
      "cell_type": "code",
      "metadata": {
        "colab": {
          "base_uri": "https://localhost:8080/",
          "height": 297
        },
        "id": "0PMQbaQNETgV",
        "outputId": "149041f5-6e17-4d76-92e7-c1cc4b123db3"
      },
      "source": [
        "data.describe()"
      ],
      "execution_count": 62,
      "outputs": [
        {
          "output_type": "execute_result",
          "data": {
            "text/html": [
              "<div>\n",
              "<style scoped>\n",
              "    .dataframe tbody tr th:only-of-type {\n",
              "        vertical-align: middle;\n",
              "    }\n",
              "\n",
              "    .dataframe tbody tr th {\n",
              "        vertical-align: top;\n",
              "    }\n",
              "\n",
              "    .dataframe thead th {\n",
              "        text-align: right;\n",
              "    }\n",
              "</style>\n",
              "<table border=\"1\" class=\"dataframe\">\n",
              "  <thead>\n",
              "    <tr style=\"text-align: right;\">\n",
              "      <th></th>\n",
              "      <th>lat</th>\n",
              "      <th>lng</th>\n",
              "      <th>zip</th>\n",
              "      <th>e</th>\n",
              "    </tr>\n",
              "  </thead>\n",
              "  <tbody>\n",
              "    <tr>\n",
              "      <th>count</th>\n",
              "      <td>99492.000000</td>\n",
              "      <td>99492.000000</td>\n",
              "      <td>86637.000000</td>\n",
              "      <td>99492.0</td>\n",
              "    </tr>\n",
              "    <tr>\n",
              "      <th>mean</th>\n",
              "      <td>40.159526</td>\n",
              "      <td>-75.317464</td>\n",
              "      <td>19237.658298</td>\n",
              "      <td>1.0</td>\n",
              "    </tr>\n",
              "    <tr>\n",
              "      <th>std</th>\n",
              "      <td>0.094446</td>\n",
              "      <td>0.174826</td>\n",
              "      <td>345.344914</td>\n",
              "      <td>0.0</td>\n",
              "    </tr>\n",
              "    <tr>\n",
              "      <th>min</th>\n",
              "      <td>30.333596</td>\n",
              "      <td>-95.595595</td>\n",
              "      <td>17752.000000</td>\n",
              "      <td>1.0</td>\n",
              "    </tr>\n",
              "    <tr>\n",
              "      <th>25%</th>\n",
              "      <td>40.100423</td>\n",
              "      <td>-75.392104</td>\n",
              "      <td>19038.000000</td>\n",
              "      <td>1.0</td>\n",
              "    </tr>\n",
              "    <tr>\n",
              "      <th>50%</th>\n",
              "      <td>40.145223</td>\n",
              "      <td>-75.304667</td>\n",
              "      <td>19401.000000</td>\n",
              "      <td>1.0</td>\n",
              "    </tr>\n",
              "    <tr>\n",
              "      <th>75%</th>\n",
              "      <td>40.229008</td>\n",
              "      <td>-75.212513</td>\n",
              "      <td>19446.000000</td>\n",
              "      <td>1.0</td>\n",
              "    </tr>\n",
              "    <tr>\n",
              "      <th>max</th>\n",
              "      <td>41.167156</td>\n",
              "      <td>-74.995041</td>\n",
              "      <td>77316.000000</td>\n",
              "      <td>1.0</td>\n",
              "    </tr>\n",
              "  </tbody>\n",
              "</table>\n",
              "</div>"
            ],
            "text/plain": [
              "                lat           lng           zip        e\n",
              "count  99492.000000  99492.000000  86637.000000  99492.0\n",
              "mean      40.159526    -75.317464  19237.658298      1.0\n",
              "std        0.094446      0.174826    345.344914      0.0\n",
              "min       30.333596    -95.595595  17752.000000      1.0\n",
              "25%       40.100423    -75.392104  19038.000000      1.0\n",
              "50%       40.145223    -75.304667  19401.000000      1.0\n",
              "75%       40.229008    -75.212513  19446.000000      1.0\n",
              "max       41.167156    -74.995041  77316.000000      1.0"
            ]
          },
          "metadata": {
            "tags": []
          },
          "execution_count": 62
        }
      ]
    },
    {
      "cell_type": "code",
      "metadata": {
        "colab": {
          "base_uri": "https://localhost:8080/"
        },
        "id": "UzlL3kx_Ehx0",
        "outputId": "d5b1634d-91eb-4c5d-bcdc-bbd0ab7f68a1"
      },
      "source": [
        "data.info()"
      ],
      "execution_count": 63,
      "outputs": [
        {
          "output_type": "stream",
          "text": [
            "<class 'pandas.core.frame.DataFrame'>\n",
            "RangeIndex: 99492 entries, 0 to 99491\n",
            "Data columns (total 9 columns):\n",
            " #   Column     Non-Null Count  Dtype  \n",
            "---  ------     --------------  -----  \n",
            " 0   lat        99492 non-null  float64\n",
            " 1   lng        99492 non-null  float64\n",
            " 2   desc       99492 non-null  object \n",
            " 3   zip        86637 non-null  float64\n",
            " 4   title      99492 non-null  object \n",
            " 5   timeStamp  99492 non-null  object \n",
            " 6   twp        99449 non-null  object \n",
            " 7   addr       98973 non-null  object \n",
            " 8   e          99492 non-null  int64  \n",
            "dtypes: float64(3), int64(1), object(5)\n",
            "memory usage: 6.8+ MB\n"
          ],
          "name": "stdout"
        }
      ]
    },
    {
      "cell_type": "code",
      "metadata": {
        "colab": {
          "base_uri": "https://localhost:8080/",
          "height": 1000
        },
        "id": "LsNkl0PtFub9",
        "outputId": "459aad89-55af-4316-b618-34126997f71c"
      },
      "source": [
        "data.head(-10)"
      ],
      "execution_count": 64,
      "outputs": [
        {
          "output_type": "execute_result",
          "data": {
            "text/html": [
              "<div>\n",
              "<style scoped>\n",
              "    .dataframe tbody tr th:only-of-type {\n",
              "        vertical-align: middle;\n",
              "    }\n",
              "\n",
              "    .dataframe tbody tr th {\n",
              "        vertical-align: top;\n",
              "    }\n",
              "\n",
              "    .dataframe thead th {\n",
              "        text-align: right;\n",
              "    }\n",
              "</style>\n",
              "<table border=\"1\" class=\"dataframe\">\n",
              "  <thead>\n",
              "    <tr style=\"text-align: right;\">\n",
              "      <th></th>\n",
              "      <th>lat</th>\n",
              "      <th>lng</th>\n",
              "      <th>desc</th>\n",
              "      <th>zip</th>\n",
              "      <th>title</th>\n",
              "      <th>timeStamp</th>\n",
              "      <th>twp</th>\n",
              "      <th>addr</th>\n",
              "      <th>e</th>\n",
              "    </tr>\n",
              "  </thead>\n",
              "  <tbody>\n",
              "    <tr>\n",
              "      <th>0</th>\n",
              "      <td>40.297876</td>\n",
              "      <td>-75.581294</td>\n",
              "      <td>REINDEER CT &amp; DEAD END;  NEW HANOVER; Station ...</td>\n",
              "      <td>19525.0</td>\n",
              "      <td>EMS: BACK PAINS/INJURY</td>\n",
              "      <td>2015-12-10 17:40:00</td>\n",
              "      <td>NEW HANOVER</td>\n",
              "      <td>REINDEER CT &amp; DEAD END</td>\n",
              "      <td>1</td>\n",
              "    </tr>\n",
              "    <tr>\n",
              "      <th>1</th>\n",
              "      <td>40.258061</td>\n",
              "      <td>-75.264680</td>\n",
              "      <td>BRIAR PATH &amp; WHITEMARSH LN;  HATFIELD TOWNSHIP...</td>\n",
              "      <td>19446.0</td>\n",
              "      <td>EMS: DIABETIC EMERGENCY</td>\n",
              "      <td>2015-12-10 17:40:00</td>\n",
              "      <td>HATFIELD TOWNSHIP</td>\n",
              "      <td>BRIAR PATH &amp; WHITEMARSH LN</td>\n",
              "      <td>1</td>\n",
              "    </tr>\n",
              "    <tr>\n",
              "      <th>2</th>\n",
              "      <td>40.121182</td>\n",
              "      <td>-75.351975</td>\n",
              "      <td>HAWS AVE; NORRISTOWN; 2015-12-10 @ 14:39:21-St...</td>\n",
              "      <td>19401.0</td>\n",
              "      <td>Fire: GAS-ODOR/LEAK</td>\n",
              "      <td>2015-12-10 17:40:00</td>\n",
              "      <td>NORRISTOWN</td>\n",
              "      <td>HAWS AVE</td>\n",
              "      <td>1</td>\n",
              "    </tr>\n",
              "    <tr>\n",
              "      <th>3</th>\n",
              "      <td>40.116153</td>\n",
              "      <td>-75.343513</td>\n",
              "      <td>AIRY ST &amp; SWEDE ST;  NORRISTOWN; Station 308A;...</td>\n",
              "      <td>19401.0</td>\n",
              "      <td>EMS: CARDIAC EMERGENCY</td>\n",
              "      <td>2015-12-10 17:40:01</td>\n",
              "      <td>NORRISTOWN</td>\n",
              "      <td>AIRY ST &amp; SWEDE ST</td>\n",
              "      <td>1</td>\n",
              "    </tr>\n",
              "    <tr>\n",
              "      <th>4</th>\n",
              "      <td>40.251492</td>\n",
              "      <td>-75.603350</td>\n",
              "      <td>CHERRYWOOD CT &amp; DEAD END;  LOWER POTTSGROVE; S...</td>\n",
              "      <td>NaN</td>\n",
              "      <td>EMS: DIZZINESS</td>\n",
              "      <td>2015-12-10 17:40:01</td>\n",
              "      <td>LOWER POTTSGROVE</td>\n",
              "      <td>CHERRYWOOD CT &amp; DEAD END</td>\n",
              "      <td>1</td>\n",
              "    </tr>\n",
              "    <tr>\n",
              "      <th>...</th>\n",
              "      <td>...</td>\n",
              "      <td>...</td>\n",
              "      <td>...</td>\n",
              "      <td>...</td>\n",
              "      <td>...</td>\n",
              "      <td>...</td>\n",
              "      <td>...</td>\n",
              "      <td>...</td>\n",
              "      <td>...</td>\n",
              "    </tr>\n",
              "    <tr>\n",
              "      <th>99477</th>\n",
              "      <td>40.095652</td>\n",
              "      <td>-75.244877</td>\n",
              "      <td>FOX HOUND DR &amp; MARBLE HL;  WHITEMARSH; Station...</td>\n",
              "      <td>19444.0</td>\n",
              "      <td>EMS: SUBJECT IN PAIN</td>\n",
              "      <td>2016-08-24 10:47:00</td>\n",
              "      <td>WHITEMARSH</td>\n",
              "      <td>FOX HOUND DR &amp; MARBLE HL</td>\n",
              "      <td>1</td>\n",
              "    </tr>\n",
              "    <tr>\n",
              "      <th>99478</th>\n",
              "      <td>40.100344</td>\n",
              "      <td>-75.293955</td>\n",
              "      <td>CHEMICAL RD &amp; GALLAGHER RD; PLYMOUTH; 2016-08-...</td>\n",
              "      <td>19462.0</td>\n",
              "      <td>Traffic: VEHICLE ACCIDENT -</td>\n",
              "      <td>2016-08-24 10:47:02</td>\n",
              "      <td>PLYMOUTH</td>\n",
              "      <td>CHEMICAL RD &amp; GALLAGHER RD</td>\n",
              "      <td>1</td>\n",
              "    </tr>\n",
              "    <tr>\n",
              "      <th>99479</th>\n",
              "      <td>40.221227</td>\n",
              "      <td>-75.288737</td>\n",
              "      <td>SUMNEYTOWN PIKE &amp; RR OVERPASS;  UPPER GWYNEDD;...</td>\n",
              "      <td>NaN</td>\n",
              "      <td>EMS: CARDIAC EMERGENCY</td>\n",
              "      <td>2016-08-24 10:52:01</td>\n",
              "      <td>UPPER GWYNEDD</td>\n",
              "      <td>SUMNEYTOWN PIKE &amp; RR OVERPASS</td>\n",
              "      <td>1</td>\n",
              "    </tr>\n",
              "    <tr>\n",
              "      <th>99480</th>\n",
              "      <td>40.221227</td>\n",
              "      <td>-75.288737</td>\n",
              "      <td>SUMNEYTOWN PIKE &amp; RR OVERPASS;  UPPER GWYNEDD;...</td>\n",
              "      <td>NaN</td>\n",
              "      <td>EMS: DIABETIC EMERGENCY</td>\n",
              "      <td>2016-08-24 10:52:01</td>\n",
              "      <td>UPPER GWYNEDD</td>\n",
              "      <td>SUMNEYTOWN PIKE &amp; RR OVERPASS</td>\n",
              "      <td>1</td>\n",
              "    </tr>\n",
              "    <tr>\n",
              "      <th>99481</th>\n",
              "      <td>40.221227</td>\n",
              "      <td>-75.288737</td>\n",
              "      <td>SUMNEYTOWN PIKE &amp; RR OVERPASS;  UPPER GWYNEDD;...</td>\n",
              "      <td>NaN</td>\n",
              "      <td>EMS: DIZZINESS</td>\n",
              "      <td>2016-08-24 10:52:01</td>\n",
              "      <td>UPPER GWYNEDD</td>\n",
              "      <td>SUMNEYTOWN PIKE &amp; RR OVERPASS</td>\n",
              "      <td>1</td>\n",
              "    </tr>\n",
              "  </tbody>\n",
              "</table>\n",
              "<p>99482 rows × 9 columns</p>\n",
              "</div>"
            ],
            "text/plain": [
              "             lat        lng  ...                           addr  e\n",
              "0      40.297876 -75.581294  ...         REINDEER CT & DEAD END  1\n",
              "1      40.258061 -75.264680  ...     BRIAR PATH & WHITEMARSH LN  1\n",
              "2      40.121182 -75.351975  ...                       HAWS AVE  1\n",
              "3      40.116153 -75.343513  ...             AIRY ST & SWEDE ST  1\n",
              "4      40.251492 -75.603350  ...       CHERRYWOOD CT & DEAD END  1\n",
              "...          ...        ...  ...                            ... ..\n",
              "99477  40.095652 -75.244877  ...       FOX HOUND DR & MARBLE HL  1\n",
              "99478  40.100344 -75.293955  ...     CHEMICAL RD & GALLAGHER RD  1\n",
              "99479  40.221227 -75.288737  ...  SUMNEYTOWN PIKE & RR OVERPASS  1\n",
              "99480  40.221227 -75.288737  ...  SUMNEYTOWN PIKE & RR OVERPASS  1\n",
              "99481  40.221227 -75.288737  ...  SUMNEYTOWN PIKE & RR OVERPASS  1\n",
              "\n",
              "[99482 rows x 9 columns]"
            ]
          },
          "metadata": {
            "tags": []
          },
          "execution_count": 64
        }
      ]
    },
    {
      "cell_type": "markdown",
      "metadata": {
        "id": "lehkcrGlHwkD"
      },
      "source": [
        ""
      ]
    },
    {
      "cell_type": "markdown",
      "metadata": {
        "id": "-3Go7Yq2IUEo"
      },
      "source": [
        "# How many calls in at the same time?"
      ]
    },
    {
      "cell_type": "code",
      "metadata": {
        "colab": {
          "base_uri": "https://localhost:8080/"
        },
        "id": "wavjfHgqGlJH",
        "outputId": "d8835f6e-7282-4391-96f1-900a3cc4eed2"
      },
      "source": [
        "data['timeStamp'].value_counts().head()"
      ],
      "execution_count": 65,
      "outputs": [
        {
          "output_type": "execute_result",
          "data": {
            "text/plain": [
              "2015-12-10 17:40:01    8\n",
              "2016-04-21 17:57:01    7\n",
              "2015-12-23 14:12:01    7\n",
              "2016-03-21 09:02:00    6\n",
              "2016-02-14 14:02:01    6\n",
              "Name: timeStamp, dtype: int64"
            ]
          },
          "metadata": {
            "tags": []
          },
          "execution_count": 65
        }
      ]
    },
    {
      "cell_type": "markdown",
      "metadata": {
        "id": "SV0yMqDQJDqC"
      },
      "source": [
        "# What is the top 5 zip code?"
      ]
    },
    {
      "cell_type": "code",
      "metadata": {
        "colab": {
          "base_uri": "https://localhost:8080/"
        },
        "id": "F7inc0J1Hujs",
        "outputId": "8ad36eb3-1951-489c-b5ee-932281ad1e16"
      },
      "source": [
        "data['zip'].value_counts().head()"
      ],
      "execution_count": 66,
      "outputs": [
        {
          "output_type": "execute_result",
          "data": {
            "text/plain": [
              "19401.0    6979\n",
              "19464.0    6643\n",
              "19403.0    4854\n",
              "19446.0    4748\n",
              "19406.0    3174\n",
              "Name: zip, dtype: int64"
            ]
          },
          "metadata": {
            "tags": []
          },
          "execution_count": 66
        }
      ]
    },
    {
      "cell_type": "code",
      "metadata": {
        "id": "rvPAxnX19e3P"
      },
      "source": [
        "data['Reason'] = data['title'].apply(lambda title: title.split(':')[0])"
      ],
      "execution_count": 67,
      "outputs": []
    },
    {
      "cell_type": "markdown",
      "metadata": {
        "id": "ASovXaMS7m_I"
      },
      "source": [
        "# What is the most common Reason for a 911 call based off of this new column?"
      ]
    },
    {
      "cell_type": "code",
      "metadata": {
        "colab": {
          "base_uri": "https://localhost:8080/"
        },
        "id": "DfxlsbLO9x5z",
        "outputId": "ca165fdc-55ce-4269-fe73-6ea8f22b69a5"
      },
      "source": [
        "data['Reason'].value_counts()"
      ],
      "execution_count": 68,
      "outputs": [
        {
          "output_type": "execute_result",
          "data": {
            "text/plain": [
              "EMS        48877\n",
              "Traffic    35695\n",
              "Fire       14920\n",
              "Name: Reason, dtype: int64"
            ]
          },
          "metadata": {
            "tags": []
          },
          "execution_count": 68
        }
      ]
    },
    {
      "cell_type": "code",
      "metadata": {
        "colab": {
          "base_uri": "https://localhost:8080/",
          "height": 302
        },
        "id": "g_FJfhb_99Iu",
        "outputId": "5666b357-da4e-478f-bf73-18e47eac8d03"
      },
      "source": [
        "sns.countplot(x='Reason',data=data,palette='flare')"
      ],
      "execution_count": 69,
      "outputs": [
        {
          "output_type": "execute_result",
          "data": {
            "text/plain": [
              "<matplotlib.axes._subplots.AxesSubplot at 0x7f5030eb7da0>"
            ]
          },
          "metadata": {
            "tags": []
          },
          "execution_count": 69
        },
        {
          "output_type": "display_data",
          "data": {
            "image/png": "[encoded data removed]",
            "text/plain": [
              "<Figure size 432x288 with 1 Axes>"
            ]
          },
          "metadata": {
            "tags": []
          }
        }
      ]
    },
    {
      "cell_type": "code",
      "metadata": {
        "colab": {
          "base_uri": "https://localhost:8080/"
        },
        "id": "ME-6EC9r_SDA",
        "outputId": "ca58ffc1-e9bf-45c7-ba05-538c251c4664"
      },
      "source": [
        "type(data['timeStamp'].iloc[0])"
      ],
      "execution_count": 70,
      "outputs": [
        {
          "output_type": "execute_result",
          "data": {
            "text/plain": [
              "str"
            ]
          },
          "metadata": {
            "tags": []
          },
          "execution_count": 70
        }
      ]
    },
    {
      "cell_type": "code",
      "metadata": {
        "colab": {
          "base_uri": "https://localhost:8080/"
        },
        "id": "exw0KE86BHRQ",
        "outputId": "ef41ed25-9b0a-46f9-d024-e79714a6cd03"
      },
      "source": [
        "data['timeStamp']=pd.to_datetime(data['timeStamp'])\n",
        "time = data['timeStamp'].iloc[0]\n",
        "time.hour"
      ],
      "execution_count": 71,
      "outputs": [
        {
          "output_type": "execute_result",
          "data": {
            "text/plain": [
              "17"
            ]
          },
          "metadata": {
            "tags": []
          },
          "execution_count": 71
        }
      ]
    },
    {
      "cell_type": "code",
      "metadata": {
        "id": "Jwhrt7E-B00K"
      },
      "source": [
        "data['Hour'] = data['timeStamp'].apply(lambda time: time.hour)\n",
        "data['Month'] = data['timeStamp'].apply(lambda time: time.month)\n",
        "data['Day of week'] = data['timeStamp'].apply(lambda time: time.dayofweek)"
      ],
      "execution_count": 72,
      "outputs": []
    },
    {
      "cell_type": "code",
      "metadata": {
        "id": "6oo9Us9UCqQb"
      },
      "source": [
        "dmap = {0:'Mon',1:'Tue',2:'Wed',3:'Thu',4:'Fri',5:'Sat',6:'Sun'}"
      ],
      "execution_count": 73,
      "outputs": []
    },
    {
      "cell_type": "code",
      "metadata": {
        "id": "PRM58tPHDMgB"
      },
      "source": [
        "data['Day of week']=data['Day of week'].map(dmap)"
      ],
      "execution_count": 74,
      "outputs": []
    },
    {
      "cell_type": "code",
      "metadata": {
        "colab": {
          "base_uri": "https://localhost:8080/",
          "height": 302
        },
        "id": "hijdLeyOD0k4",
        "outputId": "6cf964a0-d7e4-4215-981c-2150da355ed8"
      },
      "source": [
        "sns.countplot(x='Day of week',data=data,hue='Reason',palette='viridis')\n",
        "plt.legend(bbox_to_anchor=(1.05,1),loc=2,borderaxespad=0.)"
      ],
      "execution_count": 75,
      "outputs": [
        {
          "output_type": "execute_result",
          "data": {
            "text/plain": [
              "<matplotlib.legend.Legend at 0x7f50328e0ac8>"
            ]
          },
          "metadata": {
            "tags": []
          },
          "execution_count": 75
        },
        {
          "output_type": "display_data",
          "data": {
            "image/png": "[encoded data removed]",
            "text/plain": [
              "<Figure size 432x288 with 1 Axes>"
            ]
          },
          "metadata": {
            "tags": []
          }
        }
      ]
    },
    {
      "cell_type": "code",
      "metadata": {
        "colab": {
          "base_uri": "https://localhost:8080/",
          "height": 302
        },
        "id": "qp5GBWkGEJ6I",
        "outputId": "aceec2fe-4b2a-432f-97ca-3f21aa0a12bd"
      },
      "source": [
        "sns.countplot(x='Month',data=data,hue='Reason',palette='viridis')"
      ],
      "execution_count": 59,
      "outputs": [
        {
          "output_type": "execute_result",
          "data": {
            "text/plain": [
              "<matplotlib.axes._subplots.AxesSubplot at 0x7f5032851518>"
            ]
          },
          "metadata": {
            "tags": []
          },
          "execution_count": 59
        },
        {
          "output_type": "display_data",
          "data": {
            "image/png": "[encoded data removed]",
            "text/plain": [
              "<Figure size 432x288 with 1 Axes>"
            ]
          },
          "metadata": {
            "tags": []
          }
        }
      ]
    },
    {
      "cell_type": "code",
      "metadata": {
        "id": "0Y4Xo6MfFOyW"
      },
      "source": [
        ""
      ],
      "execution_count": null,
      "outputs": []
    },
    {
      "cell_type": "code",
      "metadata": {
        "colab": {
          "base_uri": "https://localhost:8080/"
        },
        "id": "Sc5fwC10Q8G6",
        "outputId": "d537e93e-6056-40ef-9e7e-e32ebe4b1716"
      },
      "source": [
        "zip_code = int(input(\"Enter zip code: \"))\n",
        "address= data[data['zip']==zip_code]['addr']\n",
        "print(address)"
      ],
      "execution_count": 10,
      "outputs": [
        {
          "output_type": "stream",
          "text": [
            "Enter zip code: 19401\n",
            "2                       HAWS AVE\n",
            "3             AIRY ST & SWEDE ST\n",
            "18             PENN ST & ARCH ST\n",
            "20             PENN ST & ARCH ST\n",
            "32        PINE ST & W ROBERTS ST\n",
            "                  ...           \n",
            "99465         AIRY ST & GREEN ST\n",
            "99469      MARKLEY ST & JAMES ST\n",
            "99472     PINE ST & W ROBERTS ST\n",
            "99487    MARKLEY ST & W LOGAN ST\n",
            "99489    CHESTNUT ST & WALNUT ST\n",
            "Name: addr, Length: 6979, dtype: object\n"
          ],
          "name": "stdout"
        }
      ]
    },
    {
      "cell_type": "code",
      "metadata": {
        "colab": {
          "base_uri": "https://localhost:8080/"
        },
        "id": "urirOp1Swv37",
        "outputId": "a99b88e2-4022-4464-9722-77c881503262"
      },
      "source": [
        "data['title'].value_counts().head(10)"
      ],
      "execution_count": 11,
      "outputs": [
        {
          "output_type": "execute_result",
          "data": {
            "text/plain": [
              "Traffic: VEHICLE ACCIDENT -    23066\n",
              "Traffic: DISABLED VEHICLE -     7702\n",
              "Fire: FIRE ALARM                5496\n",
              "EMS: RESPIRATORY EMERGENCY      5112\n",
              "EMS: CARDIAC EMERGENCY          5012\n",
              "EMS: FALL VICTIM                4863\n",
              "EMS: VEHICLE ACCIDENT           3935\n",
              "Traffic: ROAD OBSTRUCTION -     3144\n",
              "EMS: SUBJECT IN PAIN            2687\n",
              "EMS: HEAD INJURY                2631\n",
              "Name: title, dtype: int64"
            ]
          },
          "metadata": {
            "tags": []
          },
          "execution_count": 11
        }
      ]
    },
    {
      "cell_type": "code",
      "metadata": {
        "id": "H1u9zGp21JDG"
      },
      "source": [
        ""
      ],
      "execution_count": null,
      "outputs": []
    }
  ]
}