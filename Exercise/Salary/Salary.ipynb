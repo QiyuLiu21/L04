{
  "nbformat": 4,
  "nbformat_minor": 0,
  "metadata": {
    "colab": {
      "name": "Salary.ipynb",
      "provenance": [],
      "authorship_tag": "ABX9TyPFY3GmqgZT8QydOehAunCy",
      "include_colab_link": true
    },
    "kernelspec": {
      "name": "python3",
      "display_name": "Python 3"
    }
  },
  "cells": [
    {
      "cell_type": "markdown",
      "metadata": {
        "id": "view-in-github",
        "colab_type": "text"
      },
      "source": [
        "<a href=\"https://colab.research.google.com/github/QiyuLiu21/L04/blob/master/Salary.ipynb\" target=\"_parent\"><img src=\"https://colab.research.google.com/assets/colab-badge.svg\" alt=\"Open In Colab\"/></a>"
      ]
    },
    {
      "cell_type": "code",
      "metadata": {
        "id": "Di-0oSx_6cc_"
      },
      "source": [
        "import pandas as pd\n",
        "import numpy as np"
      ],
      "execution_count": 2,
      "outputs": []
    },
    {
      "cell_type": "code",
      "metadata": {
        "id": "nLvpm8Sj6h-y"
      },
      "source": [
        "data = pd.read_csv('/content/drive/MyDrive/Salaries.csv')"
      ],
      "execution_count": 3,
      "outputs": []
    },
    {
      "cell_type": "code",
      "metadata": {
        "colab": {
          "base_uri": "https://localhost:8080/"
        },
        "id": "RoYyTJ6t6qf7",
        "outputId": "3863da96-32c9-4086-f463-a95db5559e68"
      },
      "source": [
        "data.describe"
      ],
      "execution_count": 4,
      "outputs": [
        {
          "output_type": "execute_result",
          "data": {
            "text/plain": [
              "<bound method NDFrame.describe of             Id       EmployeeName  ...         Agency  Status\n",
              "0            1     NATHANIEL FORD  ...  San Francisco     NaN\n",
              "1            2       GARY JIMENEZ  ...  San Francisco     NaN\n",
              "2            3     ALBERT PARDINI  ...  San Francisco     NaN\n",
              "3            4  CHRISTOPHER CHONG  ...  San Francisco     NaN\n",
              "4            5    PATRICK GARDNER  ...  San Francisco     NaN\n",
              "...        ...                ...  ...            ...     ...\n",
              "148649  148650      Roy I Tillery  ...  San Francisco     NaN\n",
              "148650  148651       Not provided  ...  San Francisco     NaN\n",
              "148651  148652       Not provided  ...  San Francisco     NaN\n",
              "148652  148653       Not provided  ...  San Francisco     NaN\n",
              "148653  148654          Joe Lopez  ...  San Francisco     NaN\n",
              "\n",
              "[148654 rows x 13 columns]>"
            ]
          },
          "metadata": {
            "tags": []
          },
          "execution_count": 4
        }
      ]
    },
    {
      "cell_type": "code",
      "metadata": {
        "colab": {
          "base_uri": "https://localhost:8080/",
          "height": 614
        },
        "id": "rcfV0smx62Ze",
        "outputId": "4280c8ec-3320-427a-ea96-d0f4fa31fd37"
      },
      "source": [
        "data.head(10)"
      ],
      "execution_count": 5,
      "outputs": [
        {
          "output_type": "execute_result",
          "data": {
            "text/html": [
              "<div>\n",
              "<style scoped>\n",
              "    .dataframe tbody tr th:only-of-type {\n",
              "        vertical-align: middle;\n",
              "    }\n",
              "\n",
              "    .dataframe tbody tr th {\n",
              "        vertical-align: top;\n",
              "    }\n",
              "\n",
              "    .dataframe thead th {\n",
              "        text-align: right;\n",
              "    }\n",
              "</style>\n",
              "<table border=\"1\" class=\"dataframe\">\n",
              "  <thead>\n",
              "    <tr style=\"text-align: right;\">\n",
              "      <th></th>\n",
              "      <th>Id</th>\n",
              "      <th>EmployeeName</th>\n",
              "      <th>JobTitle</th>\n",
              "      <th>BasePay</th>\n",
              "      <th>OvertimePay</th>\n",
              "      <th>OtherPay</th>\n",
              "      <th>Benefits</th>\n",
              "      <th>TotalPay</th>\n",
              "      <th>TotalPayBenefits</th>\n",
              "      <th>Year</th>\n",
              "      <th>Notes</th>\n",
              "      <th>Agency</th>\n",
              "      <th>Status</th>\n",
              "    </tr>\n",
              "  </thead>\n",
              "  <tbody>\n",
              "    <tr>\n",
              "      <th>0</th>\n",
              "      <td>1</td>\n",
              "      <td>NATHANIEL FORD</td>\n",
              "      <td>GENERAL MANAGER-METROPOLITAN TRANSIT AUTHORITY</td>\n",
              "      <td>167411.18</td>\n",
              "      <td>0.00</td>\n",
              "      <td>400184.25</td>\n",
              "      <td>NaN</td>\n",
              "      <td>567595.43</td>\n",
              "      <td>567595.43</td>\n",
              "      <td>2011</td>\n",
              "      <td>NaN</td>\n",
              "      <td>San Francisco</td>\n",
              "      <td>NaN</td>\n",
              "    </tr>\n",
              "    <tr>\n",
              "      <th>1</th>\n",
              "      <td>2</td>\n",
              "      <td>GARY JIMENEZ</td>\n",
              "      <td>CAPTAIN III (POLICE DEPARTMENT)</td>\n",
              "      <td>155966.02</td>\n",
              "      <td>245131.88</td>\n",
              "      <td>137811.38</td>\n",
              "      <td>NaN</td>\n",
              "      <td>538909.28</td>\n",
              "      <td>538909.28</td>\n",
              "      <td>2011</td>\n",
              "      <td>NaN</td>\n",
              "      <td>San Francisco</td>\n",
              "      <td>NaN</td>\n",
              "    </tr>\n",
              "    <tr>\n",
              "      <th>2</th>\n",
              "      <td>3</td>\n",
              "      <td>ALBERT PARDINI</td>\n",
              "      <td>CAPTAIN III (POLICE DEPARTMENT)</td>\n",
              "      <td>212739.13</td>\n",
              "      <td>106088.18</td>\n",
              "      <td>16452.60</td>\n",
              "      <td>NaN</td>\n",
              "      <td>335279.91</td>\n",
              "      <td>335279.91</td>\n",
              "      <td>2011</td>\n",
              "      <td>NaN</td>\n",
              "      <td>San Francisco</td>\n",
              "      <td>NaN</td>\n",
              "    </tr>\n",
              "    <tr>\n",
              "      <th>3</th>\n",
              "      <td>4</td>\n",
              "      <td>CHRISTOPHER CHONG</td>\n",
              "      <td>WIRE ROPE CABLE MAINTENANCE MECHANIC</td>\n",
              "      <td>77916.00</td>\n",
              "      <td>56120.71</td>\n",
              "      <td>198306.90</td>\n",
              "      <td>NaN</td>\n",
              "      <td>332343.61</td>\n",
              "      <td>332343.61</td>\n",
              "      <td>2011</td>\n",
              "      <td>NaN</td>\n",
              "      <td>San Francisco</td>\n",
              "      <td>NaN</td>\n",
              "    </tr>\n",
              "    <tr>\n",
              "      <th>4</th>\n",
              "      <td>5</td>\n",
              "      <td>PATRICK GARDNER</td>\n",
              "      <td>DEPUTY CHIEF OF DEPARTMENT,(FIRE DEPARTMENT)</td>\n",
              "      <td>134401.60</td>\n",
              "      <td>9737.00</td>\n",
              "      <td>182234.59</td>\n",
              "      <td>NaN</td>\n",
              "      <td>326373.19</td>\n",
              "      <td>326373.19</td>\n",
              "      <td>2011</td>\n",
              "      <td>NaN</td>\n",
              "      <td>San Francisco</td>\n",
              "      <td>NaN</td>\n",
              "    </tr>\n",
              "    <tr>\n",
              "      <th>5</th>\n",
              "      <td>6</td>\n",
              "      <td>DAVID SULLIVAN</td>\n",
              "      <td>ASSISTANT DEPUTY CHIEF II</td>\n",
              "      <td>118602.00</td>\n",
              "      <td>8601.00</td>\n",
              "      <td>189082.74</td>\n",
              "      <td>NaN</td>\n",
              "      <td>316285.74</td>\n",
              "      <td>316285.74</td>\n",
              "      <td>2011</td>\n",
              "      <td>NaN</td>\n",
              "      <td>San Francisco</td>\n",
              "      <td>NaN</td>\n",
              "    </tr>\n",
              "    <tr>\n",
              "      <th>6</th>\n",
              "      <td>7</td>\n",
              "      <td>ALSON LEE</td>\n",
              "      <td>BATTALION CHIEF, (FIRE DEPARTMENT)</td>\n",
              "      <td>92492.01</td>\n",
              "      <td>89062.90</td>\n",
              "      <td>134426.14</td>\n",
              "      <td>NaN</td>\n",
              "      <td>315981.05</td>\n",
              "      <td>315981.05</td>\n",
              "      <td>2011</td>\n",
              "      <td>NaN</td>\n",
              "      <td>San Francisco</td>\n",
              "      <td>NaN</td>\n",
              "    </tr>\n",
              "    <tr>\n",
              "      <th>7</th>\n",
              "      <td>8</td>\n",
              "      <td>DAVID KUSHNER</td>\n",
              "      <td>DEPUTY DIRECTOR OF INVESTMENTS</td>\n",
              "      <td>256576.96</td>\n",
              "      <td>0.00</td>\n",
              "      <td>51322.50</td>\n",
              "      <td>NaN</td>\n",
              "      <td>307899.46</td>\n",
              "      <td>307899.46</td>\n",
              "      <td>2011</td>\n",
              "      <td>NaN</td>\n",
              "      <td>San Francisco</td>\n",
              "      <td>NaN</td>\n",
              "    </tr>\n",
              "    <tr>\n",
              "      <th>8</th>\n",
              "      <td>9</td>\n",
              "      <td>MICHAEL MORRIS</td>\n",
              "      <td>BATTALION CHIEF, (FIRE DEPARTMENT)</td>\n",
              "      <td>176932.64</td>\n",
              "      <td>86362.68</td>\n",
              "      <td>40132.23</td>\n",
              "      <td>NaN</td>\n",
              "      <td>303427.55</td>\n",
              "      <td>303427.55</td>\n",
              "      <td>2011</td>\n",
              "      <td>NaN</td>\n",
              "      <td>San Francisco</td>\n",
              "      <td>NaN</td>\n",
              "    </tr>\n",
              "    <tr>\n",
              "      <th>9</th>\n",
              "      <td>10</td>\n",
              "      <td>JOANNE HAYES-WHITE</td>\n",
              "      <td>CHIEF OF DEPARTMENT, (FIRE DEPARTMENT)</td>\n",
              "      <td>285262.00</td>\n",
              "      <td>0.00</td>\n",
              "      <td>17115.73</td>\n",
              "      <td>NaN</td>\n",
              "      <td>302377.73</td>\n",
              "      <td>302377.73</td>\n",
              "      <td>2011</td>\n",
              "      <td>NaN</td>\n",
              "      <td>San Francisco</td>\n",
              "      <td>NaN</td>\n",
              "    </tr>\n",
              "  </tbody>\n",
              "</table>\n",
              "</div>"
            ],
            "text/plain": [
              "   Id        EmployeeName  ...         Agency  Status\n",
              "0   1      NATHANIEL FORD  ...  San Francisco     NaN\n",
              "1   2        GARY JIMENEZ  ...  San Francisco     NaN\n",
              "2   3      ALBERT PARDINI  ...  San Francisco     NaN\n",
              "3   4   CHRISTOPHER CHONG  ...  San Francisco     NaN\n",
              "4   5     PATRICK GARDNER  ...  San Francisco     NaN\n",
              "5   6      DAVID SULLIVAN  ...  San Francisco     NaN\n",
              "6   7           ALSON LEE  ...  San Francisco     NaN\n",
              "7   8       DAVID KUSHNER  ...  San Francisco     NaN\n",
              "8   9      MICHAEL MORRIS  ...  San Francisco     NaN\n",
              "9  10  JOANNE HAYES-WHITE  ...  San Francisco     NaN\n",
              "\n",
              "[10 rows x 13 columns]"
            ]
          },
          "metadata": {
            "tags": []
          },
          "execution_count": 5
        }
      ]
    },
    {
      "cell_type": "markdown",
      "metadata": {
        "id": "ESSfEkSRSgIs"
      },
      "source": [
        "# What is the average BasePay?"
      ]
    },
    {
      "cell_type": "code",
      "metadata": {
        "id": "_BloqaqP7QVL",
        "colab": {
          "base_uri": "https://localhost:8080/"
        },
        "outputId": "d5518922-1fb1-4d9f-afad-d15344d7c73a"
      },
      "source": [
        "data['BasePay'].mean()"
      ],
      "execution_count": 6,
      "outputs": [
        {
          "output_type": "execute_result",
          "data": {
            "text/plain": [
              "66325.44884050643"
            ]
          },
          "metadata": {
            "tags": []
          },
          "execution_count": 6
        }
      ]
    },
    {
      "cell_type": "markdown",
      "metadata": {
        "id": "xiwQ9AtCTBzf"
      },
      "source": [
        "# What is the highest amount of overtime in the database?"
      ]
    },
    {
      "cell_type": "code",
      "metadata": {
        "colab": {
          "base_uri": "https://localhost:8080/"
        },
        "id": "0_cjcCq2S4_N",
        "outputId": "ca97e43f-1199-4673-8620-af8ee9e2b19c"
      },
      "source": [
        "data['OvertimePay'].max()"
      ],
      "execution_count": 7,
      "outputs": [
        {
          "output_type": "execute_result",
          "data": {
            "text/plain": [
              "245131.88"
            ]
          },
          "metadata": {
            "tags": []
          },
          "execution_count": 7
        }
      ]
    },
    {
      "cell_type": "markdown",
      "metadata": {
        "id": "HiAlUh3hTUDV"
      },
      "source": [
        "# What is the job title of Joseph Driscoll?"
      ]
    },
    {
      "cell_type": "code",
      "metadata": {
        "colab": {
          "base_uri": "https://localhost:8080/"
        },
        "id": "9CrzBpDHTRCO",
        "outputId": "78c7f1c4-4277-47ac-b0b3-ec0c601c0c66"
      },
      "source": [
        "data[data['EmployeeName']=='JOSEPH DRISCOLL']['JobTitle']"
      ],
      "execution_count": 31,
      "outputs": [
        {
          "output_type": "execute_result",
          "data": {
            "text/plain": [
              "24    CAPTAIN, FIRE SUPPRESSION\n",
              "Name: JobTitle, dtype: object"
            ]
          },
          "metadata": {
            "tags": []
          },
          "execution_count": 31
        }
      ]
    },
    {
      "cell_type": "code",
      "metadata": {
        "id": "8ofGoVaOa3r0"
      },
      "source": [
        "employee=input(\"Enter an employee name: \")\n",
        "totalPay = data[data['EmployeeName']==employee]['JobTitle']"
      ],
      "execution_count": null,
      "outputs": []
    },
    {
      "cell_type": "markdown",
      "metadata": {
        "id": "-ZWtk3a_WJUM"
      },
      "source": [
        "# What is the name of the highest paid person?(including benefits)"
      ]
    },
    {
      "cell_type": "code",
      "metadata": {
        "colab": {
          "base_uri": "https://localhost:8080/",
          "height": 168
        },
        "id": "ZyaYIWflTlzy",
        "outputId": "fc04866a-ab9f-4860-fa6c-d0add6bcbe90"
      },
      "source": [
        "data[data['TotalPayBenefits']==data['TotalPayBenefits'].max()]\n",
        "data.loc[data['TotalPayBenefits'].idmax()]\n",
        "data[data['TotalPayBenefits']==data['EmployeeName'].max()]"
      ],
      "execution_count": 32,
      "outputs": [
        {
          "output_type": "execute_result",
          "data": {
            "text/html": [
              "<div>\n",
              "<style scoped>\n",
              "    .dataframe tbody tr th:only-of-type {\n",
              "        vertical-align: middle;\n",
              "    }\n",
              "\n",
              "    .dataframe tbody tr th {\n",
              "        vertical-align: top;\n",
              "    }\n",
              "\n",
              "    .dataframe thead th {\n",
              "        text-align: right;\n",
              "    }\n",
              "</style>\n",
              "<table border=\"1\" class=\"dataframe\">\n",
              "  <thead>\n",
              "    <tr style=\"text-align: right;\">\n",
              "      <th></th>\n",
              "      <th>Id</th>\n",
              "      <th>EmployeeName</th>\n",
              "      <th>JobTitle</th>\n",
              "      <th>BasePay</th>\n",
              "      <th>OvertimePay</th>\n",
              "      <th>OtherPay</th>\n",
              "      <th>Benefits</th>\n",
              "      <th>TotalPay</th>\n",
              "      <th>TotalPayBenefits</th>\n",
              "      <th>Year</th>\n",
              "      <th>Notes</th>\n",
              "      <th>Agency</th>\n",
              "      <th>Status</th>\n",
              "    </tr>\n",
              "  </thead>\n",
              "  <tbody>\n",
              "    <tr>\n",
              "      <th>0</th>\n",
              "      <td>1</td>\n",
              "      <td>NATHANIEL FORD</td>\n",
              "      <td>GENERAL MANAGER-METROPOLITAN TRANSIT AUTHORITY</td>\n",
              "      <td>167411.18</td>\n",
              "      <td>0.0</td>\n",
              "      <td>400184.25</td>\n",
              "      <td>NaN</td>\n",
              "      <td>567595.43</td>\n",
              "      <td>567595.43</td>\n",
              "      <td>2011</td>\n",
              "      <td>NaN</td>\n",
              "      <td>San Francisco</td>\n",
              "      <td>NaN</td>\n",
              "    </tr>\n",
              "  </tbody>\n",
              "</table>\n",
              "</div>"
            ],
            "text/plain": [
              "   Id    EmployeeName  ...         Agency  Status\n",
              "0   1  NATHANIEL FORD  ...  San Francisco     NaN\n",
              "\n",
              "[1 rows x 13 columns]"
            ]
          },
          "metadata": {
            "tags": []
          },
          "execution_count": 32
        }
      ]
    },
    {
      "cell_type": "markdown",
      "metadata": {
        "id": "f_KFdeDCXFBA"
      },
      "source": [
        "# What is the name of the lowest paid person?(including benefits)"
      ]
    },
    {
      "cell_type": "code",
      "metadata": {
        "colab": {
          "base_uri": "https://localhost:8080/",
          "height": 134
        },
        "id": "VSAoGUZCWkcY",
        "outputId": "8a9cfee2-e5e6-416f-f9b4-fa55b60bda55"
      },
      "source": [
        "data[data['TotalPayBenefits']==data['TotalPayBenefits'].min()]"
      ],
      "execution_count": 33,
      "outputs": [
        {
          "output_type": "execute_result",
          "data": {
            "text/html": [
              "<div>\n",
              "<style scoped>\n",
              "    .dataframe tbody tr th:only-of-type {\n",
              "        vertical-align: middle;\n",
              "    }\n",
              "\n",
              "    .dataframe tbody tr th {\n",
              "        vertical-align: top;\n",
              "    }\n",
              "\n",
              "    .dataframe thead th {\n",
              "        text-align: right;\n",
              "    }\n",
              "</style>\n",
              "<table border=\"1\" class=\"dataframe\">\n",
              "  <thead>\n",
              "    <tr style=\"text-align: right;\">\n",
              "      <th></th>\n",
              "      <th>Id</th>\n",
              "      <th>EmployeeName</th>\n",
              "      <th>JobTitle</th>\n",
              "      <th>BasePay</th>\n",
              "      <th>OvertimePay</th>\n",
              "      <th>OtherPay</th>\n",
              "      <th>Benefits</th>\n",
              "      <th>TotalPay</th>\n",
              "      <th>TotalPayBenefits</th>\n",
              "      <th>Year</th>\n",
              "      <th>Notes</th>\n",
              "      <th>Agency</th>\n",
              "      <th>Status</th>\n",
              "    </tr>\n",
              "  </thead>\n",
              "  <tbody>\n",
              "    <tr>\n",
              "      <th>148653</th>\n",
              "      <td>148654</td>\n",
              "      <td>Joe Lopez</td>\n",
              "      <td>Counselor, Log Cabin Ranch</td>\n",
              "      <td>0.0</td>\n",
              "      <td>0.0</td>\n",
              "      <td>-618.13</td>\n",
              "      <td>0.0</td>\n",
              "      <td>-618.13</td>\n",
              "      <td>-618.13</td>\n",
              "      <td>2014</td>\n",
              "      <td>NaN</td>\n",
              "      <td>San Francisco</td>\n",
              "      <td>NaN</td>\n",
              "    </tr>\n",
              "  </tbody>\n",
              "</table>\n",
              "</div>"
            ],
            "text/plain": [
              "            Id EmployeeName  ...         Agency  Status\n",
              "148653  148654    Joe Lopez  ...  San Francisco     NaN\n",
              "\n",
              "[1 rows x 13 columns]"
            ]
          },
          "metadata": {
            "tags": []
          },
          "execution_count": 33
        }
      ]
    },
    {
      "cell_type": "markdown",
      "metadata": {
        "id": "zSVuVYKRcCXP"
      },
      "source": [
        "# What was the average(mean) basepay of all employee per year?"
      ]
    },
    {
      "cell_type": "code",
      "metadata": {
        "colab": {
          "base_uri": "https://localhost:8080/"
        },
        "id": "R8Glowb1b_aV",
        "outputId": "04969b7a-ba3d-4fb5-ed26-94a88e6be0d5"
      },
      "source": [
        "data.groupby('Year').mean()['BasePay']"
      ],
      "execution_count": 34,
      "outputs": [
        {
          "output_type": "execute_result",
          "data": {
            "text/plain": [
              "Year\n",
              "2011    63595.956517\n",
              "2012    65436.406857\n",
              "2013    69630.030216\n",
              "2014    66564.421924\n",
              "Name: BasePay, dtype: float64"
            ]
          },
          "metadata": {
            "tags": []
          },
          "execution_count": 34
        }
      ]
    },
    {
      "cell_type": "markdown",
      "metadata": {
        "id": "jfSbAI1CdjVg"
      },
      "source": [
        "# How many unique job titles are there?"
      ]
    },
    {
      "cell_type": "code",
      "metadata": {
        "colab": {
          "base_uri": "https://localhost:8080/"
        },
        "id": "4bsnnoW9dfvT",
        "outputId": "15a9ed69-6f8b-44e9-a66f-ea25daffdd35"
      },
      "source": [
        "data['JobTitle'].nunique()"
      ],
      "execution_count": 35,
      "outputs": [
        {
          "output_type": "execute_result",
          "data": {
            "text/plain": [
              "2159"
            ]
          },
          "metadata": {
            "tags": []
          },
          "execution_count": 35
        }
      ]
    },
    {
      "cell_type": "markdown",
      "metadata": {
        "id": "E1EFbmKpdysP"
      },
      "source": [
        "# What are the top 5 most common jobs?"
      ]
    },
    {
      "cell_type": "code",
      "metadata": {
        "colab": {
          "base_uri": "https://localhost:8080/"
        },
        "id": "fWpOnyc2dxiU",
        "outputId": "fd9530d6-f606-4506-ac73-a3a58fa439f6"
      },
      "source": [
        "data['JobTitle'].value_counts().head()"
      ],
      "execution_count": 36,
      "outputs": [
        {
          "output_type": "execute_result",
          "data": {
            "text/plain": [
              "Transit Operator                7036\n",
              "Special Nurse                   4389\n",
              "Registered Nurse                3736\n",
              "Public Svc Aide-Public Works    2518\n",
              "Police Officer 3                2421\n",
              "Name: JobTitle, dtype: int64"
            ]
          },
          "metadata": {
            "tags": []
          },
          "execution_count": 36
        }
      ]
    },
    {
      "cell_type": "markdown",
      "metadata": {
        "id": "vFiug4F6edIX"
      },
      "source": [
        "# How many job titles were represented by only one person in 2013?\n"
      ]
    },
    {
      "cell_type": "code",
      "metadata": {
        "colab": {
          "base_uri": "https://localhost:8080/"
        },
        "id": "cdP8fWOrd8ui",
        "outputId": "92398d4e-5dd3-4985-8c6a-ee300e162e70"
      },
      "source": [
        "sum(data[data['Year']==2013]['JobTitle'].value_counts()==1)"
      ],
      "execution_count": 39,
      "outputs": [
        {
          "output_type": "execute_result",
          "data": {
            "text/plain": [
              "202"
            ]
          },
          "metadata": {
            "tags": []
          },
          "execution_count": 39
        }
      ]
    },
    {
      "cell_type": "markdown",
      "metadata": {
        "id": "2UfFhi2mfj9z"
      },
      "source": [
        "# How many people have the world chief in their job title?"
      ]
    },
    {
      "cell_type": "code",
      "metadata": {
        "id": "bkv-AjeGfD4G"
      },
      "source": [
        "def chief_string(title):\n",
        "  if 'chief' in title.lower():\n",
        "    return True\n",
        "  else:\n",
        "    return False"
      ],
      "execution_count": 40,
      "outputs": []
    },
    {
      "cell_type": "code",
      "metadata": {
        "colab": {
          "base_uri": "https://localhost:8080/"
        },
        "id": "zptaXtWggaEd",
        "outputId": "4477e219-bc55-4e75-d5d7-33fbbbda334a"
      },
      "source": [
        "sum(data['JobTitle'].apply(lambda x: chief_string(x)))"
      ],
      "execution_count": 41,
      "outputs": [
        {
          "output_type": "execute_result",
          "data": {
            "text/plain": [
              "627"
            ]
          },
          "metadata": {
            "tags": []
          },
          "execution_count": 41
        }
      ]
    },
    {
      "cell_type": "code",
      "metadata": {
        "id": "Vnt6ZmAngoJB"
      },
      "source": [
        ""
      ],
      "execution_count": null,
      "outputs": []
    }
  ]
}