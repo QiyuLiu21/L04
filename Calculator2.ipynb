{
  "nbformat": 4,
  "nbformat_minor": 0,
  "metadata": {
    "colab": {
      "name": "Calculator2.ipynb",
      "provenance": [],
      "authorship_tag": "ABX9TyNzsDOaxfbvb0psh+JWdLGh",
      "include_colab_link": true
    },
    "kernelspec": {
      "name": "python3",
      "display_name": "Python 3"
    }
  },
  "cells": [
    {
      "cell_type": "markdown",
      "metadata": {
        "id": "view-in-github",
        "colab_type": "text"
      },
      "source": [
        "<a href=\"https://colab.research.google.com/github/QiyuLiu21/L04/blob/master/Calculator2.ipynb\" target=\"_parent\"><img src=\"https://colab.research.google.com/assets/colab-badge.svg\" alt=\"Open In Colab\"/></a>"
      ]
    },
    {
      "cell_type": "code",
      "metadata": {
        "id": "cA0BYj54JLMN"
      },
      "source": [
        "def add(n):\n",
        "  \"\"\" This Function add a list of numbers \"\"\"\n",
        "  # I created an accumulator variable to keep track of the running total and set it to 0\n",
        "  total = 0\n",
        "  for x in n: # x will iterate through the list n \n",
        "    total += x # This line is calculating the new total by adding it to itself and storing it as the new total (+=) is the same as total = total + x\n",
        "  return total \n",
        "\n",
        "def subtract(n):\n",
        "  \"\"\" This Function subtracts a list of numbers \"\"\"\n",
        "  # I created an accumulator variable to keep track of the running total by using the index 0 of the list\n",
        "  # Then I multiplied it by 2 to have the total be equal to 2n - n \n",
        "  total = n[0] * 2\n",
        "  for x in n:\n",
        "    total -= x \n",
        "  return total\n",
        "\n",
        "def multiply(n):\n",
        "  \"\"\" This Function multiplies a list of numbers \"\"\"\n",
        "  # I created an accumulator variable to keep track of the running total by having it equal to 1 \n",
        "  # This will set the first total to n * 1 = n\n",
        "  total = 1\n",
        "  for x in n:\n",
        "    total *= x\n",
        "  return total\n",
        "\n",
        "  \n",
        "def divide(n):\n",
        "  \"\"\" This Function divides a list of numbers \"\"\"\n",
        "  # I created an accumulator variable to keep track of the running total by having it equal to the index of 0  \n",
        "  total = n[0]\n",
        "  for x in n[1:]: # I am starting the list from the second number and looping through it \n",
        "    total /= x\n",
        "  return total  \n",
        "\n",
        "def user_numbers():\n",
        "  \"\"\" This function ask a user to enter a number or numbers and stores it in a list n \"\"\"\n",
        "  n = []  # creating an empty list to store the user numbers\n",
        "  how_many = int(input('please enter how many number you would like to calculate: ')) # creating a variable to be used for the while loop\n",
        "  while how_many != 0: # This line of code allows me to continue my loop as long as the how_many variable is not equal to 0\n",
        "    my_num = int(input('Please enter your numbers in the order of calculation: '))\n",
        "    n.append(my_num) # The numbers will be added to the list in the order the user entered \n",
        "    how_many -= 1 # This will keep subtracting by 1 until how_many == 0 and the while loop condition is no longer met. \n",
        "  return n\n",
        "In [9]:\n",
        "statusCalculator = True #creating a bool variable to be used as a conditional statement in the while loop \n",
        "calculatorFunctions = [\"multiplication\", \"division\", \"subtraction\", \"adding\"] #List of all the function in the calculator\n",
        "print(\"The calculator has the following functions: \")\n",
        "for function in calculatorFunctions: #Goes through the list of calculatorFunctions\n",
        "  print(function) #Print all the function in the calculator\n",
        "while (statusCalculator): #If the user types stop, the calculator stopss working\n",
        "  userInput = input(\"Please type the function that you want to use: \") #Ask the user what function he wants to use\n",
        "  if userInput.lower() in calculatorFunctions: #Goes through the list to see if the function typed by the user is in the list\n",
        "    user_num = user_numbers() # calls the function and stores the users list of numbers in the new variable \n",
        "    if userInput.lower() == \"multiplication\": #Calls the required function depending on the user input\n",
        "      answer = multiply(user_num) # calling the multiply function by passing the argument user_num \n",
        "      print(answer)\n",
        "    elif userInput.lower() == \"adding\":\n",
        "      answer = add(user_num)\n",
        "      print(answer)\n",
        "    elif userInput.lower() == \"subtraction\":\n",
        "      answer = subtract(user_num)\n",
        "      print(answer)\n",
        "    elif userInput.lower() == \"division\":\n",
        "      answer = divide(user_num)\n",
        "      print(answer)\n",
        "    userInput2 = input(\"If you are done with the calculator, please type stop. If you want to keep using it, type any letter \")\n",
        "    if userInput2.lower() == \"stop\": #If the user types stop, the calculator will stop\n",
        "      break\n",
        "  else:\n",
        "    print(\"The function is not recognized, please type it again\") #If the function is not recognized in the list of functions, it will ask to type it again\n",
        "print(\"Thank you for using our calculator.\")\n",
        "The calculator has the following functions: \n",
        "multiplication\n",
        "division\n",
        "subtraction\n",
        "adding\n",
        "6\n",
        "Thank you for using our calculator."
      ],
      "execution_count": null,
      "outputs": []
    }
  ]
}