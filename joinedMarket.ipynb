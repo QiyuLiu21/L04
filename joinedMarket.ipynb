{
  "nbformat": 4,
  "nbformat_minor": 0,
  "metadata": {
    "colab": {
      "name": "joinedMarket.ipynb",
      "provenance": [],
      "mount_file_id": "14VdkVPk3mkRHGM_Nv2-bnTbBzqyWyIGf",
      "authorship_tag": "ABX9TyM5hoLfIjP2GN6sCGCxAsUb",
      "include_colab_link": true
    },
    "kernelspec": {
      "name": "python3",
      "display_name": "Python 3"
    }
  },
  "cells": [
    {
      "cell_type": "markdown",
      "metadata": {
        "id": "view-in-github",
        "colab_type": "text"
      },
      "source": [
        "<a href=\"https://colab.research.google.com/github/QiyuLiu21/L04/blob/master/joinedMarket.ipynb\" target=\"_parent\"><img src=\"https://colab.research.google.com/assets/colab-badge.svg\" alt=\"Open In Colab\"/></a>"
      ]
    },
    {
      "cell_type": "code",
      "metadata": {
        "id": "ymlSRUW1Pszy"
      },
      "source": [
        "import numpy as np\n",
        "import pandas as pd\n",
        "import seaborn as sns\n",
        "import matplotlib.pyplot as plt\n",
        "import plotly as plt\n",
        "sns.set()\n",
        "%matplotlib inline"
      ],
      "execution_count": 2,
      "outputs": []
    },
    {
      "cell_type": "code",
      "metadata": {
        "id": "ayzDzgW4Qx8C"
      },
      "source": [
        "df=pd.read_csv('/content/drive/MyDrive/Colab Notebooks/Database/NewListOfOrders.csv')"
      ],
      "execution_count": 3,
      "outputs": []
    },
    {
      "cell_type": "code",
      "metadata": {
        "colab": {
          "base_uri": "https://localhost:8080/"
        },
        "id": "6JDQPhpvQ4bi",
        "outputId": "ab16bf17-adb2-4a35-aba4-81542d0e6a56"
      },
      "source": [
        "df.info()"
      ],
      "execution_count": 4,
      "outputs": [
        {
          "output_type": "stream",
          "text": [
            "<class 'pandas.core.frame.DataFrame'>\n",
            "RangeIndex: 8047 entries, 0 to 8046\n",
            "Data columns (total 18 columns):\n",
            " #   Column                     Non-Null Count  Dtype  \n",
            "---  ------                     --------------  -----  \n",
            " 0   Category                   8047 non-null   object \n",
            " 1   City                       8047 non-null   object \n",
            " 2   Country                    8047 non-null   object \n",
            " 3   Customer Name              8047 non-null   object \n",
            " 4   Order Date                 8047 non-null   object \n",
            " 5   Order ID                   8047 non-null   object \n",
            " 6   Order ID (OrderBreakdown)  8047 non-null   object \n",
            " 7   Product Name               8047 non-null   object \n",
            " 8   Region                     8047 non-null   object \n",
            " 9   Segment                    8047 non-null   object \n",
            " 10  Ship Date                  8047 non-null   object \n",
            " 11  Ship Mode                  8047 non-null   object \n",
            " 12  State                      8047 non-null   object \n",
            " 13  Sub-Category               8047 non-null   object \n",
            " 14  Discount                   8047 non-null   float64\n",
            " 15  Profit                     8047 non-null   int64  \n",
            " 16  Quantity                   8047 non-null   int64  \n",
            " 17  Sales                      8047 non-null   int64  \n",
            "dtypes: float64(1), int64(3), object(14)\n",
            "memory usage: 1.1+ MB\n"
          ],
          "name": "stdout"
        }
      ]
    },
    {
      "cell_type": "code",
      "metadata": {
        "colab": {
          "base_uri": "https://localhost:8080/",
          "height": 530
        },
        "id": "qeJeyxaTQ7mG",
        "outputId": "b090bf56-8768-4593-9e5f-00e78ac1cdc5"
      },
      "source": [
        "df.head()"
      ],
      "execution_count": 5,
      "outputs": [
        {
          "output_type": "execute_result",
          "data": {
            "text/html": [
              "<div>\n",
              "<style scoped>\n",
              "    .dataframe tbody tr th:only-of-type {\n",
              "        vertical-align: middle;\n",
              "    }\n",
              "\n",
              "    .dataframe tbody tr th {\n",
              "        vertical-align: top;\n",
              "    }\n",
              "\n",
              "    .dataframe thead th {\n",
              "        text-align: right;\n",
              "    }\n",
              "</style>\n",
              "<table border=\"1\" class=\"dataframe\">\n",
              "  <thead>\n",
              "    <tr style=\"text-align: right;\">\n",
              "      <th></th>\n",
              "      <th>Category</th>\n",
              "      <th>City</th>\n",
              "      <th>Country</th>\n",
              "      <th>Customer Name</th>\n",
              "      <th>Order Date</th>\n",
              "      <th>Order ID</th>\n",
              "      <th>Order ID (OrderBreakdown)</th>\n",
              "      <th>Product Name</th>\n",
              "      <th>Region</th>\n",
              "      <th>Segment</th>\n",
              "      <th>Ship Date</th>\n",
              "      <th>Ship Mode</th>\n",
              "      <th>State</th>\n",
              "      <th>Sub-Category</th>\n",
              "      <th>Discount</th>\n",
              "      <th>Profit</th>\n",
              "      <th>Quantity</th>\n",
              "      <th>Sales</th>\n",
              "    </tr>\n",
              "  </thead>\n",
              "  <tbody>\n",
              "    <tr>\n",
              "      <th>0</th>\n",
              "      <td>Office Supplies</td>\n",
              "      <td>Stockholm</td>\n",
              "      <td>Sweden</td>\n",
              "      <td>Ruby Patel</td>\n",
              "      <td>1/1/2011</td>\n",
              "      <td>BN-2011-7407039</td>\n",
              "      <td>BN-2011-7407039</td>\n",
              "      <td>Enermax Note Cards, Premium</td>\n",
              "      <td>North</td>\n",
              "      <td>Home Office</td>\n",
              "      <td>1/5/2011</td>\n",
              "      <td>Economy Plus</td>\n",
              "      <td>Stockholm</td>\n",
              "      <td>Paper</td>\n",
              "      <td>0.5</td>\n",
              "      <td>-26</td>\n",
              "      <td>3</td>\n",
              "      <td>45</td>\n",
              "    </tr>\n",
              "    <tr>\n",
              "      <th>1</th>\n",
              "      <td>Furniture</td>\n",
              "      <td>Southport</td>\n",
              "      <td>United Kingdom</td>\n",
              "      <td>Summer Hayward</td>\n",
              "      <td>1/3/2011</td>\n",
              "      <td>AZ-2011-9050313</td>\n",
              "      <td>AZ-2011-9050313</td>\n",
              "      <td>Dania Corner Shelving, Traditional</td>\n",
              "      <td>North</td>\n",
              "      <td>Consumer</td>\n",
              "      <td>1/7/2011</td>\n",
              "      <td>Economy</td>\n",
              "      <td>England</td>\n",
              "      <td>Bookcases</td>\n",
              "      <td>0.0</td>\n",
              "      <td>290</td>\n",
              "      <td>7</td>\n",
              "      <td>854</td>\n",
              "    </tr>\n",
              "    <tr>\n",
              "      <th>2</th>\n",
              "      <td>Office Supplies</td>\n",
              "      <td>Valence</td>\n",
              "      <td>France</td>\n",
              "      <td>Devin Huddleston</td>\n",
              "      <td>1/4/2011</td>\n",
              "      <td>AZ-2011-6674300</td>\n",
              "      <td>AZ-2011-6674300</td>\n",
              "      <td>Binney &amp; Smith Sketch Pad, Easy-Erase</td>\n",
              "      <td>Central</td>\n",
              "      <td>Consumer</td>\n",
              "      <td>1/8/2011</td>\n",
              "      <td>Economy</td>\n",
              "      <td>Auvergne-Rhône-Alpes</td>\n",
              "      <td>Art</td>\n",
              "      <td>0.0</td>\n",
              "      <td>21</td>\n",
              "      <td>3</td>\n",
              "      <td>140</td>\n",
              "    </tr>\n",
              "    <tr>\n",
              "      <th>3</th>\n",
              "      <td>Office Supplies</td>\n",
              "      <td>Birmingham</td>\n",
              "      <td>United Kingdom</td>\n",
              "      <td>Mary Parker</td>\n",
              "      <td>1/4/2011</td>\n",
              "      <td>BN-2011-2819714</td>\n",
              "      <td>BN-2011-2819714</td>\n",
              "      <td>Boston Markers, Easy-Erase</td>\n",
              "      <td>North</td>\n",
              "      <td>Corporate</td>\n",
              "      <td>1/9/2011</td>\n",
              "      <td>Economy</td>\n",
              "      <td>England</td>\n",
              "      <td>Art</td>\n",
              "      <td>0.5</td>\n",
              "      <td>-22</td>\n",
              "      <td>2</td>\n",
              "      <td>27</td>\n",
              "    </tr>\n",
              "    <tr>\n",
              "      <th>4</th>\n",
              "      <td>Office Supplies</td>\n",
              "      <td>Birmingham</td>\n",
              "      <td>United Kingdom</td>\n",
              "      <td>Mary Parker</td>\n",
              "      <td>1/4/2011</td>\n",
              "      <td>BN-2011-2819714</td>\n",
              "      <td>BN-2011-2819714</td>\n",
              "      <td>Eldon Folders, Single Width</td>\n",
              "      <td>North</td>\n",
              "      <td>Corporate</td>\n",
              "      <td>1/9/2011</td>\n",
              "      <td>Economy</td>\n",
              "      <td>England</td>\n",
              "      <td>Storage</td>\n",
              "      <td>0.5</td>\n",
              "      <td>-1</td>\n",
              "      <td>2</td>\n",
              "      <td>17</td>\n",
              "    </tr>\n",
              "  </tbody>\n",
              "</table>\n",
              "</div>"
            ],
            "text/plain": [
              "          Category        City         Country  ... Profit Quantity Sales\n",
              "0  Office Supplies   Stockholm          Sweden  ...    -26        3    45\n",
              "1        Furniture   Southport  United Kingdom  ...    290        7   854\n",
              "2  Office Supplies     Valence          France  ...     21        3   140\n",
              "3  Office Supplies  Birmingham  United Kingdom  ...    -22        2    27\n",
              "4  Office Supplies  Birmingham  United Kingdom  ...     -1        2    17\n",
              "\n",
              "[5 rows x 18 columns]"
            ]
          },
          "metadata": {
            "tags": []
          },
          "execution_count": 5
        }
      ]
    },
    {
      "cell_type": "markdown",
      "metadata": {
        "id": "7J7gNssbPuvC"
      },
      "source": [
        "# The top 5 customers with the largest order.\n",
        "Joel Peters, Jose Gambino, Isaac David, Angie Massengill, Owen Howell are top 5 customers."
      ]
    },
    {
      "cell_type": "code",
      "metadata": {
        "colab": {
          "base_uri": "https://localhost:8080/"
        },
        "id": "NI3UgbItQ818",
        "outputId": "e2087243-27e0-45e0-f218-6744cd8437bc"
      },
      "source": [
        "df['Customer Name'].value_counts().head()"
      ],
      "execution_count": 6,
      "outputs": [
        {
          "output_type": "execute_result",
          "data": {
            "text/plain": [
              "Joel Peters         32\n",
              "Jose Gambino        30\n",
              "Isaac David         29\n",
              "Angie Massengill    28\n",
              "Owen Howell         27\n",
              "Name: Customer Name, dtype: int64"
            ]
          },
          "metadata": {
            "tags": []
          },
          "execution_count": 6
        }
      ]
    },
    {
      "cell_type": "markdown",
      "metadata": {
        "id": "nbmW5vypStE3"
      },
      "source": [
        "# Which segment has the most order and what kind of product is the most ordered?\n",
        "Consumer segment has the most orders, and office supplies are the most popular products."
      ]
    },
    {
      "cell_type": "code",
      "metadata": {
        "colab": {
          "base_uri": "https://localhost:8080/",
          "height": 302
        },
        "id": "lP51FOMOnS5-",
        "outputId": "b26ef677-0649-4e96-ff39-11cbad0f8b8b"
      },
      "source": [
        "sns.set()\n",
        "sns.countplot(x='Segment',data=df,palette=\"flare\")"
      ],
      "execution_count": 7,
      "outputs": [
        {
          "output_type": "execute_result",
          "data": {
            "text/plain": [
              "<matplotlib.axes._subplots.AxesSubplot at 0x7f94bd6c5320>"
            ]
          },
          "metadata": {
            "tags": []
          },
          "execution_count": 7
        },
        {
          "output_type": "display_data",
          "data": {
            "image/png": "[encoded data removed]",
            "text/plain": [
              "<Figure size 432x288 with 1 Axes>"
            ]
          },
          "metadata": {
            "tags": []
          }
        }
      ]
    },
    {
      "cell_type": "code",
      "metadata": {
        "colab": {
          "base_uri": "https://localhost:8080/",
          "height": 302
        },
        "id": "92hKlHvSRo7g",
        "outputId": "2a240136-fc93-4f0e-9a4d-98baf95d7b90"
      },
      "source": [
        "sns.countplot(x='Category',data=df,palette=\"flare\")"
      ],
      "execution_count": 8,
      "outputs": [
        {
          "output_type": "execute_result",
          "data": {
            "text/plain": [
              "<matplotlib.axes._subplots.AxesSubplot at 0x7f94bd723d68>"
            ]
          },
          "metadata": {
            "tags": []
          },
          "execution_count": 8
        },
        {
          "output_type": "display_data",
          "data": {
            "image/png": "[encoded data removed]",
            "text/plain": [
              "<Figure size 432x288 with 1 Axes>"
            ]
          },
          "metadata": {
            "tags": []
          }
        }
      ]
    },
    {
      "cell_type": "markdown",
      "metadata": {
        "id": "Da9rKAWh1TEX"
      },
      "source": [
        "# Which is the most profit segment?\n",
        "Comparing three segments, corporate creates the most profit."
      ]
    },
    {
      "cell_type": "code",
      "metadata": {
        "colab": {
          "base_uri": "https://localhost:8080/",
          "height": 304
        },
        "id": "uFxNgtyxShuu",
        "outputId": "150aeb25-c07f-4f02-bc60-44af3bb631d4"
      },
      "source": [
        "sns.lineplot(x=\"Segment\", y=\"Profit\",data=df)"
      ],
      "execution_count": 15,
      "outputs": [
        {
          "output_type": "execute_result",
          "data": {
            "text/plain": [
              "<matplotlib.axes._subplots.AxesSubplot at 0x7f94ee899278>"
            ]
          },
          "metadata": {
            "tags": []
          },
          "execution_count": 15
        },
        {
          "output_type": "display_data",
          "data": {
            "image/png": "[encoded data removed]",
            "text/plain": [
              "<Figure size 432x288 with 1 Axes>"
            ]
          },
          "metadata": {
            "tags": []
          }
        }
      ]
    },
    {
      "cell_type": "code",
      "metadata": {
        "id": "lWCVaRT53Xv3"
      },
      "source": [
        ""
      ],
      "execution_count": null,
      "outputs": []
    }
  ]
}