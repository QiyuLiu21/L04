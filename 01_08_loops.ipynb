{
  "nbformat": 4,
  "nbformat_minor": 0,
  "metadata": {
    "colab": {
      "name": "01/08 loops.ipynb",
      "provenance": [],
      "authorship_tag": "ABX9TyNhcSQCrlc5pIThlw++hyIq",
      "include_colab_link": true
    },
    "kernelspec": {
      "name": "python3",
      "display_name": "Python 3"
    }
  },
  "cells": [
    {
      "cell_type": "markdown",
      "metadata": {
        "id": "view-in-github",
        "colab_type": "text"
      },
      "source": [
        "<a href=\"https://colab.research.google.com/github/QiyuLiu21/L04/blob/master/01_08_loops.ipynb\" target=\"_parent\"><img src=\"https://colab.research.google.com/assets/colab-badge.svg\" alt=\"Open In Colab\"/></a>"
      ]
    },
    {
      "cell_type": "code",
      "metadata": {
        "colab": {
          "base_uri": "https://localhost:8080/"
        },
        "id": "1aPh1WcbXx8s",
        "outputId": "67e149f3-0ae7-4b3a-cbd1-ff202fb144bc"
      },
      "source": [
        "family = [\"Qiyu\", \"Di\", \"Derrick\", \"Lixin\", \"Wei\", \"Yuchong\", \"Tao\", \"Xiuxiang\", \"Zhao\", \"Xiang\", \"Meng\", \"Dan\", \"Lu\", \"Guang\", \"MengC\", \"Yi\",\"Ping\",\"Fan\", \"Mia\",\"Qiong\"]\n",
        "for i in family:\n",
        "  print(\"Hi\" + \", \" + i + \"!\")"
      ],
      "execution_count": 14,
      "outputs": [
        {
          "output_type": "stream",
          "text": [
            "Hi, Qiyu!\n",
            "Hi, Di!\n",
            "Hi, Derrick!\n",
            "Hi, Lixin!\n",
            "Hi, Wei!\n",
            "Hi, Yuchong!\n",
            "Hi, Tao!\n",
            "Hi, Xiuxiang!\n",
            "Hi, Zhao!\n",
            "Hi, Xiang!\n",
            "Hi, Meng!\n",
            "Hi, Dan!\n",
            "Hi, Lu!\n",
            "Hi, Guang!\n",
            "Hi, MengC!\n",
            "Hi, Yi!\n",
            "Hi, Ping!\n",
            "Hi, Fan!\n",
            "Hi, Mia!\n",
            "Hi, Qiong!\n"
          ],
          "name": "stdout"
        }
      ]
    },
    {
      "cell_type": "code",
      "metadata": {
        "colab": {
          "base_uri": "https://localhost:8080/"
        },
        "id": "feunEhEhY9kZ",
        "outputId": "7d6f95f1-0206-4d2b-c164-a07a6632f613"
      },
      "source": [
        "for i in range(1,10):\n",
        "  print(i)"
      ],
      "execution_count": 4,
      "outputs": [
        {
          "output_type": "stream",
          "text": [
            "1\n",
            "2\n",
            "3\n",
            "4\n",
            "5\n",
            "6\n",
            "7\n",
            "8\n",
            "9\n"
          ],
          "name": "stdout"
        }
      ]
    },
    {
      "cell_type": "code",
      "metadata": {
        "colab": {
          "base_uri": "https://localhost:8080/"
        },
        "id": "8splrHd6cu88",
        "outputId": "a71f71d0-7b03-477d-fdb3-ae2cb6382baf"
      },
      "source": [
        "numbers = list(range(1,20,2))\n",
        "print(numbers)"
      ],
      "execution_count": 5,
      "outputs": [
        {
          "output_type": "stream",
          "text": [
            "[1, 3, 5, 7, 9, 11, 13, 15, 17, 19]\n"
          ],
          "name": "stdout"
        }
      ]
    },
    {
      "cell_type": "code",
      "metadata": {
        "colab": {
          "base_uri": "https://localhost:8080/"
        },
        "id": "q7kK1INadvVs",
        "outputId": "0434d998-aa14-47ba-b564-8a053f258cc8"
      },
      "source": [
        "list = []\n",
        "numbers = int(input(\"Enter a number: \"))\n",
        "for numbers in list:\n",
        "  if numbers % 2 == 0:\n",
        "    print (\"The number is even.\")\n",
        "  else:\n",
        "    print(\"The number is odd.\")\n",
        "list.append(numbers)\n",
        "print(list)"
      ],
      "execution_count": 8,
      "outputs": [
        {
          "output_type": "stream",
          "text": [
            "Enter a number: 28\n",
            "[28]\n"
          ],
          "name": "stdout"
        }
      ]
    },
    {
      "cell_type": "code",
      "metadata": {
        "colab": {
          "base_uri": "https://localhost:8080/"
        },
        "id": "DQeQn2UrmqRI",
        "outputId": "10eca366-89f7-4565-9810-e98393020729"
      },
      "source": [
        "n=int(input('enter a number greater than 1. '))\n",
        "Match=True\n",
        "\n",
        "for num in range (2,n):\n",
        "    n%num\n",
        "    if n%num==0:\n",
        "        Match=False\n",
        "        \n",
        "if Match:\n",
        "    print('num is prime.')\n",
        "\n",
        "else:\n",
        "    print('nume is not prime.')"
      ],
      "execution_count": 9,
      "outputs": [
        {
          "output_type": "stream",
          "text": [
            "enter a number greater than 1. 36\n",
            "nume is not prime.\n"
          ],
          "name": "stdout"
        }
      ]
    },
    {
      "cell_type": "code",
      "metadata": {
        "colab": {
          "base_uri": "https://localhost:8080/"
        },
        "id": "nhYzK3cIm_As",
        "outputId": "0a06da36-766c-413e-bac3-e7cece6f56ea"
      },
      "source": [
        "for num in range(2,101):\n",
        "    if all(num%i!=0 for i in range(2,num)):\n",
        "       print (num)"
      ],
      "execution_count": 11,
      "outputs": [
        {
          "output_type": "stream",
          "text": [
            "2\n",
            "3\n",
            "5\n",
            "7\n",
            "11\n",
            "13\n",
            "17\n",
            "19\n",
            "23\n",
            "29\n",
            "31\n",
            "37\n",
            "41\n",
            "43\n",
            "47\n",
            "53\n",
            "59\n",
            "61\n",
            "67\n",
            "71\n",
            "73\n",
            "79\n",
            "83\n",
            "89\n",
            "97\n"
          ],
          "name": "stdout"
        }
      ]
    },
    {
      "cell_type": "code",
      "metadata": {
        "colab": {
          "base_uri": "https://localhost:8080/"
        },
        "id": "6mC2XQwqnKfK",
        "outputId": "2bd40fdd-a645-43bb-a674-b6aa9ec8c04c"
      },
      "source": [
        "print(family[0:2])\n",
        "print(family[0:5])\n",
        "print(family[1:6])\n",
        "print(family[5:20])\n",
        "print(family[-5:])\n",
        "print(family[-8:-2])\n",
        "print(family[15:])\n",
        "print(family[0:])\n",
        "print(family[:10])\n",
        "print(family[:])"
      ],
      "execution_count": 12,
      "outputs": [
        {
          "output_type": "stream",
          "text": [
            "['Qiyu', 'Di']\n",
            "['Qiyu', 'Di', 'Derrick', 'Lixin', 'Wei']\n",
            "['Di', 'Derrick', 'Lixin', 'Wei', 'Yuchong']\n",
            "['Yuchong', 'Tao', 'Xiuxiang', 'Zhao', 'Xiang', 'Meng', 'Dan', 'Lu', 'Guang', 'MengC', 'Yi', 'Ping', 'Fan', 'Mia', 'Qiong']\n",
            "['Yi', 'Ping', 'Fan', 'Mia', 'Qiong']\n",
            "['Lu', 'Guang', 'MengC', 'Yi', 'Ping', 'Fan']\n",
            "['Yi', 'Ping', 'Fan', 'Mia', 'Qiong']\n",
            "['Qiyu', 'Di', 'Derrick', 'Lixin', 'Wei', 'Yuchong', 'Tao', 'Xiuxiang', 'Zhao', 'Xiang', 'Meng', 'Dan', 'Lu', 'Guang', 'MengC', 'Yi', 'Ping', 'Fan', 'Mia', 'Qiong']\n",
            "['Qiyu', 'Di', 'Derrick', 'Lixin', 'Wei', 'Yuchong', 'Tao', 'Xiuxiang', 'Zhao', 'Xiang']\n",
            "['Qiyu', 'Di', 'Derrick', 'Lixin', 'Wei', 'Yuchong', 'Tao', 'Xiuxiang', 'Zhao', 'Xiang', 'Meng', 'Dan', 'Lu', 'Guang', 'MengC', 'Yi', 'Ping', 'Fan', 'Mia', 'Qiong']\n"
          ],
          "name": "stdout"
        }
      ]
    },
    {
      "cell_type": "code",
      "metadata": {
        "id": "CTlraiOOxBSE"
      },
      "source": [
        ""
      ],
      "execution_count": null,
      "outputs": []
    }
  ]
}